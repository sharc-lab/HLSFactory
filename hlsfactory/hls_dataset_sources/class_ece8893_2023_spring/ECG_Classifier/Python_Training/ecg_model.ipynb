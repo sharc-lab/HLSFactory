{
 "cells": [
  {
   "cell_type": "code",
   "execution_count": 1,
   "metadata": {
    "id": "gaaVLGFIcFTd"
   },
   "outputs": [],
   "source": [
    "import numpy as np\n",
    "import pandas as pd\n",
    "import matplotlib.pyplot as plt\n",
    "from sklearn.metrics import accuracy_score, classification_report\n",
    "from scipy.signal import resample\n",
    "import random\n",
    "\n",
    "np.random.seed(42)\n",
    "\n",
    "import torch\n",
    "import torch.nn as nn\n",
    "from torch.optim import Adam\n",
    "\n",
    "torch.manual_seed(42)\n",
    "torch.backends.cudnn.benchmark = False"
   ]
  },
  {
   "cell_type": "markdown",
   "metadata": {
    "id": "5goWyhnIcFTf"
   },
   "source": [
    "The following code will make graphs a bit easier to read and display."
   ]
  },
  {
   "cell_type": "code",
   "execution_count": 2,
   "metadata": {
    "colab": {
     "base_uri": "https://localhost:8080/"
    },
    "id": "jlJZ3YB9cpmR",
    "outputId": "b84f7376-313e-4160-a52e-606b9d85cb69"
   },
   "outputs": [
    {
     "name": "stdout",
     "output_type": "stream",
     "text": [
      "Mounted at /content/drive\n"
     ]
    }
   ],
   "source": [
    "from google.colab import drive\n",
    "\n",
    "drive.mount(\"/content/drive\")"
   ]
  },
  {
   "cell_type": "code",
   "execution_count": 3,
   "metadata": {
    "id": "8_8IrlTTcFTf"
   },
   "outputs": [],
   "source": [
    "params = {\n",
    "    \"legend.fontsize\": \"x-large\",\n",
    "    \"figure.figsize\": (10, 5),\n",
    "    \"axes.labelsize\": \"x-large\",\n",
    "    \"axes.titlesize\": \"x-large\",\n",
    "    \"xtick.labelsize\": \"x-large\",\n",
    "    \"ytick.labelsize\": \"x-large\",\n",
    "    \"axes.grid\": True,\n",
    "    \"axes.grid.which\": \"both\",\n",
    "}\n",
    "plt.rcParams.update(params)"
   ]
  },
  {
   "cell_type": "markdown",
   "metadata": {
    "id": "3U-WE_e_cFTg"
   },
   "source": [
    "## Read Dataset\n",
    "The default dataset comes in two sets - Training set and Testing set. We combine the two and redistribute to three sets."
   ]
  },
  {
   "cell_type": "code",
   "execution_count": 4,
   "metadata": {
    "_cell_guid": "79c7e3d0-c299-4dcb-8224-4455121ee9b0",
    "_uuid": "d629ff2d2480ee46fbb7e2d37f6b5fab8052498a",
    "id": "6ggxs_pMcFTh"
   },
   "outputs": [],
   "source": [
    "df = pd.read_csv(\"drive/MyDrive/input/mitbih_train.csv\", header=None)\n",
    "df2 = pd.read_csv(\"drive/MyDrive/input/mitbih_test.csv\", header=None)\n",
    "\n",
    "df = df.reset_index().drop(\"index\", axis=\"columns\")\n",
    "\n",
    "# print(df)"
   ]
  },
  {
   "cell_type": "code",
   "execution_count": 5,
   "metadata": {
    "id": "fcd9q2bZcFTk"
   },
   "outputs": [],
   "source": [
    "label_names = {0: \"N\", 1: \"S\", 2: \"V\", 3: \"F\", 4: \"Q\"}"
   ]
  },
  {
   "cell_type": "markdown",
   "metadata": {
    "_uuid": "c269ab78773e4b5a960a5e55d2b48c53d5f9c446",
    "id": "7UVs-rWRcFTo"
   },
   "source": [
    "## Data augmentation\n",
    "\n",
    "We use an existing data augmentation class for stretching and amplifying our samples from the dataset"
   ]
  },
  {
   "cell_type": "code",
   "execution_count": 6,
   "metadata": {
    "_uuid": "a332bfa2765ee6f5d49320c9d8f0b9c5795a4843",
    "id": "VaFBheJvcFTo"
   },
   "outputs": [],
   "source": [
    "def stretch(x):\n",
    "    l = int(187 * (1 + (random.random() - 0.5) / 3))\n",
    "    y = resample(x, l)\n",
    "    if l < 187:\n",
    "        y_ = np.zeros(shape=(187,))\n",
    "        y_[:l] = y\n",
    "    else:\n",
    "        y_ = y[:187]\n",
    "    return y_\n",
    "\n",
    "\n",
    "def amplify(x):\n",
    "    alpha = random.random() - 0.5\n",
    "    factor = -alpha * x + (1 + alpha)\n",
    "    return x * factor\n",
    "\n",
    "\n",
    "class Stretch:\n",
    "    def __init__(self):\n",
    "        pass\n",
    "\n",
    "    def __call__(self, x):\n",
    "        return stretch(x)\n",
    "\n",
    "    def __repr__(self):\n",
    "        return \"Stretch\"\n",
    "\n",
    "\n",
    "class Amplify:\n",
    "    def __init__(self):\n",
    "        pass\n",
    "\n",
    "    def __call__(self, x):\n",
    "        return amplify(x)\n",
    "\n",
    "    def __repr__(self):\n",
    "        return \"Amplify\"\n",
    "\n",
    "\n",
    "class Augment:\n",
    "    def __init__(self, augmentation_list, return_prints=False):\n",
    "        self.augmentation_list = augmentation_list\n",
    "        self.return_prints = return_prints\n",
    "\n",
    "    def __call__(self, x):\n",
    "        augmentations_performed = \"\"\n",
    "\n",
    "        for augmentation in self.augmentation_list:\n",
    "            if np.random.binomial(1, 0.5) == 1:\n",
    "                x = augmentation(x)\n",
    "                augmentations_performed += f\"{augmentation} \"\n",
    "\n",
    "        if not self.return_prints:\n",
    "            return x\n",
    "        return x, augmentations_performed"
   ]
  },
  {
   "cell_type": "markdown",
   "metadata": {
    "_uuid": "c42605d020fd51885437f4af3cf10cebbeafc9bb",
    "id": "V-4VyRMrcFTp"
   },
   "source": [
    "## Split Dataset into Train-, Validation- and Test-set\n",
    "\n",
    "Next we devide the data to three sets - train set, validation set and test set - but we do so such that the probability of every class in each set is similar to the probability in the undivided set."
   ]
  },
  {
   "cell_type": "code",
   "execution_count": 7,
   "metadata": {
    "colab": {
     "base_uri": "https://localhost:8080/"
    },
    "id": "s22ppTzucFTp",
    "outputId": "0e477209-9cd4-4810-f885-ca447ac7eb88"
   },
   "outputs": [
    {
     "name": "stdout",
     "output_type": "stream",
     "text": [
      "70043 0.7999977156954565\n",
      "0.0    0.827734\n",
      "4.0    0.073455\n",
      "2.0    0.066102\n",
      "1.0    0.025384\n",
      "3.0    0.007324\n",
      "Name: 187, dtype: float64\n",
      "\n",
      "\n",
      "17511 0.20000228430454348\n",
      "0.0    0.827708\n",
      "4.0    0.073440\n",
      "2.0    0.066130\n",
      "1.0    0.025413\n",
      "3.0    0.007310\n",
      "Name: 187, dtype: float64\n",
      "\n",
      "\n",
      "21892 0.25003997532951094\n",
      "0.0    0.827608\n",
      "4.0    0.073451\n",
      "2.0    0.066143\n",
      "1.0    0.025397\n",
      "3.0    0.007400\n",
      "Name: 187, dtype: float64\n",
      "\n",
      "\n"
     ]
    }
   ],
   "source": [
    "from sklearn.model_selection import train_test_split\n",
    "\n",
    "train_df, val_df = train_test_split(df, train_size=0.8, stratify=df.iloc[:, -1])\n",
    "test_df = df2\n",
    "# Make sure the target distribution stays the same...\n",
    "for temp_df in [train_df, val_df, test_df]:\n",
    "    print(temp_df.shape[0], temp_df.shape[0] / df.shape[0])\n",
    "    print(temp_df.iloc[:, -1].value_counts(normalize=True))\n",
    "    print(\"\\n\")"
   ]
  },
  {
   "cell_type": "markdown",
   "metadata": {
    "id": "9dzu198NcFTq"
   },
   "source": [
    "### Undersample the over-represented\n",
    "There is a huge imbalance. The model can easily diminish the loss by ignoring everything other than class 0.\n",
    "There are several ways to handle this - oversample, undersample, bootstrapping etc.\n",
    "First, we look at the distribution of samples in the training set:"
   ]
  },
  {
   "cell_type": "markdown",
   "metadata": {
    "id": "ZVs3oTRmcFTq"
   },
   "source": [
    "Next we take the over represented class (N) and sample 5000 samples, randomly. These will be used for training and the rest are ignored."
   ]
  },
  {
   "cell_type": "code",
   "execution_count": 8,
   "metadata": {
    "colab": {
     "base_uri": "https://localhost:8080/",
     "height": 644
    },
    "id": "rlXoZ-h5cFTq",
    "outputId": "14f3164e-8a5e-4e24-ead6-a3692a2f56bc"
   },
   "outputs": [
    {
     "name": "stderr",
     "output_type": "stream",
     "text": [
      "<ipython-input-8-a9b42d7cbafd>:4: FutureWarning: The frame.append method is deprecated and will be removed from pandas in a future version. Use pandas.concat instead.\n",
      "  train_df = non_normal_rows.append(normal_rows)\n"
     ]
    },
    {
     "data": {
      "text/plain": [
       "187\n",
       "0.0    5000\n",
       "1.0    1778\n",
       "2.0    4630\n",
       "3.0     513\n",
       "4.0    5145\n",
       "dtype: int64"
      ]
     },
     "execution_count": 8,
     "metadata": {},
     "output_type": "execute_result"
    },
    {
     "data": {
      "image/png": "[encoded data removed]",
      "text/plain": [
       "<Figure size 1000x500 with 1 Axes>"
      ]
     },
     "metadata": {},
     "output_type": "display_data"
    }
   ],
   "source": [
    "non_normal_rows = train_df.loc[train_df.iloc[:, -1] != 0]\n",
    "normal_rows = train_df.loc[train_df.iloc[:, -1] == 0].sample(5000)\n",
    "\n",
    "train_df = non_normal_rows.append(normal_rows)\n",
    "\n",
    "col = train_df.groupby(187).size()\n",
    "(col / col.sum()).plot.bar()\n",
    "col"
   ]
  },
  {
   "cell_type": "markdown",
   "metadata": {
    "_uuid": "c4de23b85abe34a726eab268171da0e827bafa35",
    "id": "m9lTFuVwcFTq"
   },
   "source": [
    "## Build Model\n",
    "The model is based off two existing models, but we have created a simplified version of it"
   ]
  },
  {
   "cell_type": "code",
   "execution_count": 9,
   "metadata": {
    "id": "D3EnI2hWCwsa"
   },
   "outputs": [],
   "source": [
    "class Model(nn.Module):\n",
    "    def __init__(self):\n",
    "        super().__init__()\n",
    "\n",
    "        self.conv1 = nn.Conv1d(1, 32, kernel_size=5, padding=\"same\")\n",
    "        self.max1 = nn.MaxPool1d(kernel_size=5, stride=2)\n",
    "        self.conv2 = nn.Conv1d(32, 32, kernel_size=5, padding=\"same\")\n",
    "        self.max2 = nn.MaxPool1d(kernel_size=5, stride=2)\n",
    "        self.conv3 = nn.Conv1d(32, 32, kernel_size=5, padding=\"same\")\n",
    "        self.max3 = nn.MaxPool1d(kernel_size=5, stride=2)\n",
    "        self.conv4 = nn.Conv1d(32, 32, kernel_size=5, padding=\"same\")\n",
    "        self.max4 = nn.MaxPool1d(kernel_size=5, stride=2)\n",
    "        self.max5 = nn.MaxPool1d(kernel_size=5, stride=2)\n",
    "\n",
    "        self.dense1 = nn.Linear(64, 32)\n",
    "        self.acc = nn.ReLU()\n",
    "        self.dense2 = nn.Linear(32, 5)\n",
    "\n",
    "    def forward(self, x):\n",
    "        # print(x.shape)\n",
    "        x = self.conv1(x)\n",
    "        # print(x.shape)\n",
    "        x = self.acc(x)\n",
    "        x = self.max1(x)\n",
    "        x = self.conv2(x)\n",
    "        x = self.acc(x)\n",
    "        x = self.max2(x)\n",
    "        x = self.conv3(x)\n",
    "        x = self.acc(x)\n",
    "        x = self.max3(x)\n",
    "        x = self.conv4(x)\n",
    "        x = self.acc(x)\n",
    "        x = self.max4(x)\n",
    "        x = self.max5(x)\n",
    "\n",
    "        x = x.view(x.shape[0], -1)  # flattens\n",
    "        x = self.dense1(x)\n",
    "        x = self.acc(x)\n",
    "        x = self.dense2(x)\n",
    "\n",
    "        return x"
   ]
  },
  {
   "cell_type": "markdown",
   "metadata": {
    "id": "E3L6LbWycFTr"
   },
   "source": [
    "Here we set the batch_size, epochs, lr, and number of splits (folds) for training. After trying different values, these numbers led to a better trained model. "
   ]
  },
  {
   "cell_type": "code",
   "execution_count": 10,
   "metadata": {
    "id": "Xu_h5ezrcFTr"
   },
   "outputs": [],
   "source": [
    "batch_size = 256\n",
    "epochs = 10\n",
    "lr = 1e-3\n",
    "device = \"cuda\" if torch.cuda.is_available() else \"cpu\"\n",
    "n_splits = 5"
   ]
  },
  {
   "cell_type": "markdown",
   "metadata": {
    "id": "wAoGOZPkcFTr"
   },
   "source": [
    "Now we define helper methods for data handling. These will be very helpfull to divide the data to batches, shuffle and randomize and do computations in parallel. "
   ]
  },
  {
   "cell_type": "code",
   "execution_count": 11,
   "metadata": {
    "id": "NH2MBU5ScFTr"
   },
   "outputs": [],
   "source": [
    "from torch.utils.data import Dataset, DataLoader\n",
    "\n",
    "\n",
    "class ds(Dataset):\n",
    "    def __init__(self, x, y=None, transforms=None):\n",
    "        super().__init__()\n",
    "\n",
    "        self.X = x\n",
    "        self.Y = y\n",
    "        self.transforms = transforms\n",
    "\n",
    "    def __len__(self):\n",
    "        return self.X.shape[0]\n",
    "\n",
    "    def __getitem__(self, idx):\n",
    "        x = self.X.iloc[idx, :]\n",
    "\n",
    "        if self.transforms is not None:\n",
    "            x = self.transforms(x)\n",
    "\n",
    "        if self.Y is not None:\n",
    "            return torch.Tensor(x).view(1, -1).float(), torch.Tensor(\n",
    "                [self.Y.iloc[idx]]\n",
    "            ).float().squeeze()\n",
    "\n",
    "        return torch.Tensor(x).float()\n",
    "\n",
    "\n",
    "augment = Augment([Amplify(), Stretch()])\n",
    "\n",
    "train_set = ds(train_df.iloc[:, :-1], train_df.iloc[:, -1], transforms=augment)\n",
    "val_set = ds(val_df.iloc[:, :-1], val_df.iloc[:, -1])\n",
    "\n",
    "train_loader = DataLoader(train_set, batch_size=batch_size, shuffle=True)\n",
    "val_loader = DataLoader(val_set, batch_size=batch_size * 4)"
   ]
  },
  {
   "cell_type": "markdown",
   "metadata": {
    "id": "ApTHV2xCcFTs"
   },
   "source": [
    "## Train Model\n"
   ]
  },
  {
   "cell_type": "code",
   "execution_count": 12,
   "metadata": {
    "id": "6ae1hX05cFTs"
   },
   "outputs": [],
   "source": [
    "criterion = nn.CrossEntropyLoss()\n",
    "\n",
    "from torch.optim.lr_scheduler import ReduceLROnPlateau"
   ]
  },
  {
   "cell_type": "markdown",
   "metadata": {
    "id": "WqoY4UbWcFTs"
   },
   "source": [
    "Here we use Adam optimizer, which converges faster better than SGD. \n"
   ]
  },
  {
   "cell_type": "code",
   "execution_count": 13,
   "metadata": {
    "colab": {
     "base_uri": "https://localhost:8080/"
    },
    "id": "s8ggP1MfcFTs",
    "outputId": "5818ed86-a50f-41e1-e8ca-59abf1989a40"
   },
   "outputs": [
    {
     "name": "stdout",
     "output_type": "stream",
     "text": [
      "Fold 0 Epoch 0:\tTrain loss: 7.25e-01\tVal loss: 1.29e-01 \tLR: 1.00e-03\n",
      "Fold 0 Epoch 1:\tTrain loss: 4.02e-01\tVal loss: 8.66e-02 \tLR: 1.00e-03\n",
      "Fold 0 Epoch 2:\tTrain loss: 2.91e-01\tVal loss: 8.14e-02 \tLR: 1.00e-03\n",
      "Fold 0 Epoch 3:\tTrain loss: 2.46e-01\tVal loss: 8.74e-02 \tLR: 1.00e-03\n",
      "Fold 0 Epoch 4:\tTrain loss: 2.16e-01\tVal loss: 6.38e-02 \tLR: 1.00e-03\n",
      "Fold 0 Epoch 5:\tTrain loss: 1.94e-01\tVal loss: 6.20e-02 \tLR: 1.00e-03\n",
      "Fold 0 Epoch 6:\tTrain loss: 1.82e-01\tVal loss: 5.66e-02 \tLR: 1.00e-03\n",
      "Fold 0 Epoch 7:\tTrain loss: 1.69e-01\tVal loss: 7.68e-02 \tLR: 1.00e-03\n",
      "Fold 0 Epoch 8:\tTrain loss: 1.61e-01\tVal loss: 5.04e-02 \tLR: 1.00e-03\n",
      "Fold 0 Epoch 9:\tTrain loss: 1.52e-01\tVal loss: 3.40e-02 \tLR: 1.00e-03\n",
      "Fold 1 Epoch 0:\tTrain loss: 6.83e-01\tVal loss: 1.08e-01 \tLR: 1.00e-03\n",
      "Fold 1 Epoch 1:\tTrain loss: 3.75e-01\tVal loss: 1.08e-01 \tLR: 1.00e-03\n",
      "Fold 1 Epoch 2:\tTrain loss: 2.67e-01\tVal loss: 7.67e-02 \tLR: 1.00e-03\n",
      "Fold 1 Epoch 3:\tTrain loss: 2.26e-01\tVal loss: 6.09e-02 \tLR: 1.00e-03\n",
      "Fold 1 Epoch 4:\tTrain loss: 2.00e-01\tVal loss: 8.71e-02 \tLR: 1.00e-03\n",
      "Fold 1 Epoch 5:\tTrain loss: 1.83e-01\tVal loss: 5.69e-02 \tLR: 1.00e-03\n",
      "Fold 1 Epoch 6:\tTrain loss: 1.72e-01\tVal loss: 4.14e-02 \tLR: 1.00e-03\n",
      "Fold 1 Epoch 7:\tTrain loss: 1.59e-01\tVal loss: 4.92e-02 \tLR: 1.00e-03\n",
      "Fold 1 Epoch 8:\tTrain loss: 1.53e-01\tVal loss: 5.69e-02 \tLR: 1.00e-03\n",
      "Fold 1 Epoch 9:\tTrain loss: 1.44e-01\tVal loss: 3.84e-02 \tLR: 1.00e-03\n",
      "Fold 2 Epoch 0:\tTrain loss: 6.99e-01\tVal loss: 1.96e-01 \tLR: 1.00e-03\n",
      "Fold 2 Epoch 1:\tTrain loss: 3.48e-01\tVal loss: 9.46e-02 \tLR: 1.00e-03\n",
      "Fold 2 Epoch 2:\tTrain loss: 2.49e-01\tVal loss: 7.47e-02 \tLR: 1.00e-03\n",
      "Fold 2 Epoch 3:\tTrain loss: 2.12e-01\tVal loss: 6.27e-02 \tLR: 1.00e-03\n",
      "Fold 2 Epoch 4:\tTrain loss: 1.87e-01\tVal loss: 6.46e-02 \tLR: 1.00e-03\n",
      "Fold 2 Epoch 5:\tTrain loss: 1.72e-01\tVal loss: 6.62e-02 \tLR: 1.00e-03\n",
      "Fold 2 Epoch 6:\tTrain loss: 1.63e-01\tVal loss: 5.82e-02 \tLR: 1.00e-03\n",
      "Fold 2 Epoch 7:\tTrain loss: 1.49e-01\tVal loss: 5.47e-02 \tLR: 1.00e-03\n",
      "Fold 2 Epoch 8:\tTrain loss: 1.41e-01\tVal loss: 4.61e-02 \tLR: 1.00e-03\n",
      "Fold 2 Epoch 9:\tTrain loss: 1.36e-01\tVal loss: 4.04e-02 \tLR: 1.00e-03\n",
      "Fold 3 Epoch 0:\tTrain loss: 7.08e-01\tVal loss: 9.87e-02 \tLR: 1.00e-03\n",
      "Fold 3 Epoch 1:\tTrain loss: 3.38e-01\tVal loss: 5.22e-02 \tLR: 1.00e-03\n",
      "Fold 3 Epoch 2:\tTrain loss: 2.59e-01\tVal loss: 1.07e-01 \tLR: 1.00e-03\n",
      "Fold 3 Epoch 3:\tTrain loss: 2.23e-01\tVal loss: 5.91e-02 \tLR: 1.00e-03\n",
      "Fold 3 Epoch 4:\tTrain loss: 2.00e-01\tVal loss: 5.37e-02 \tLR: 1.00e-03\n",
      "Fold 3 Epoch 5:\tTrain loss: 1.84e-01\tVal loss: 2.88e-02 \tLR: 1.00e-03\n",
      "Fold 3 Epoch 6:\tTrain loss: 1.74e-01\tVal loss: 4.23e-02 \tLR: 1.00e-03\n",
      "Fold 3 Epoch 7:\tTrain loss: 1.63e-01\tVal loss: 4.47e-02 \tLR: 1.00e-03\n",
      "Fold 3 Epoch 8:\tTrain loss: 1.57e-01\tVal loss: 4.76e-02 \tLR: 1.00e-03\n",
      "Fold 3 Epoch 9:\tTrain loss: 1.51e-01\tVal loss: 7.04e-02 \tLR: 1.00e-03\n",
      "Fold 4 Epoch 0:\tTrain loss: 7.88e-02\tVal loss: 2.63e+01 \tLR: 1.00e-03\n",
      "Fold 4 Epoch 1:\tTrain loss: 1.22e-09\tVal loss: 2.63e+01 \tLR: 1.00e-03\n",
      "Fold 4 Epoch 2:\tTrain loss: 1.24e-09\tVal loss: 2.63e+01 \tLR: 1.00e-03\n",
      "Fold 4 Epoch 3:\tTrain loss: 1.23e-09\tVal loss: 2.63e+01 \tLR: 1.00e-03\n",
      "Fold 4 Epoch 4:\tTrain loss: 1.26e-09\tVal loss: 2.63e+01 \tLR: 1.00e-03\n",
      "Fold 4 Epoch 5:\tTrain loss: 1.23e-09\tVal loss: 2.63e+01 \tLR: 1.00e-04\n",
      "Fold 4 Epoch 6:\tTrain loss: 1.21e-09\tVal loss: 2.63e+01 \tLR: 1.00e-04\n",
      "Fold 4 Epoch 7:\tTrain loss: 1.24e-09\tVal loss: 2.63e+01 \tLR: 1.00e-04\n",
      "Fold 4 Epoch 8:\tTrain loss: 1.20e-09\tVal loss: 2.63e+01 \tLR: 1.00e-04\n",
      "Fold 4 Epoch 9:\tTrain loss: 1.22e-09\tVal loss: 2.63e+01 \tLR: 1.00e-05\n"
     ]
    }
   ],
   "source": [
    "epoch_train_losses = []\n",
    "epoch_val_losses = []\n",
    "\n",
    "from sklearn.model_selection import KFold\n",
    "\n",
    "kf = KFold(n_splits=n_splits)\n",
    "for fold_n, (train_idx, val_idx) in enumerate(kf.split(df)):\n",
    "    train_set = ds(df.iloc[train_idx, :-1], df.iloc[train_idx, -1], transforms=augment)\n",
    "    val_set = ds(df.iloc[val_idx, :-1], df.iloc[val_idx, -1])\n",
    "\n",
    "    train_loader = DataLoader(train_set, batch_size=batch_size, shuffle=True)\n",
    "    val_loader = DataLoader(val_set, batch_size=batch_size * 4)\n",
    "\n",
    "    model = Model().to(device)\n",
    "    optimizer = torch.optim.Adam(model.parameters(), lr=lr)\n",
    "    lr_sched = ReduceLROnPlateau(optimizer, patience=3)\n",
    "    for epoch in range(epochs):\n",
    "        epoch_train_loss = 0\n",
    "        epoch_val_loss = 0\n",
    "\n",
    "        model.train()\n",
    "        for batch_id, (x, y_true) in enumerate(train_loader):\n",
    "            y_pred = model(x.to(device))\n",
    "\n",
    "            optimizer.zero_grad()\n",
    "            loss = criterion(y_pred, y_true.long().to(device))\n",
    "            loss.backward()\n",
    "            optimizer.step()\n",
    "\n",
    "            epoch_train_loss += loss.item() / len(train_loader)\n",
    "\n",
    "        model.eval()\n",
    "        with torch.no_grad():\n",
    "            for batch_id, (x, y_true) in enumerate(val_loader):\n",
    "                y_pred = model(x.to(device))\n",
    "                loss = criterion(y_pred, y_true.long().to(device))\n",
    "\n",
    "                epoch_val_loss += loss.item() / len(val_loader)\n",
    "\n",
    "        epoch_train_losses.append(epoch_train_loss)\n",
    "        epoch_val_losses.append(epoch_val_loss)\n",
    "        print(\n",
    "            f\"Fold {fold_n} Epoch {epoch}:\\tTrain loss: {epoch_train_loss:0.2e}\\tVal loss: {epoch_val_loss:0.2e} \\tLR: {optimizer.param_groups[0]['lr']:0.2e}\"\n",
    "        )\n",
    "\n",
    "        if lr_sched is None:\n",
    "            if epoch % 10 == 0 and epoch > 0:\n",
    "                optimizer.param_groups[0][\"lr\"] /= 10\n",
    "                print(f\"Reducing LR to {optimizer.param_groups[0]['lr']}\")\n",
    "        else:\n",
    "            lr_sched.step(epoch_val_loss)\n",
    "    torch.save(model.state_dict(), f\"model_fold_{fold_n}.pth\")"
   ]
  },
  {
   "cell_type": "markdown",
   "metadata": {
    "id": "dkrjP0JAJ1I8"
   },
   "source": [
    "##Model's Training and Validation Loss"
   ]
  },
  {
   "cell_type": "code",
   "execution_count": 14,
   "metadata": {
    "colab": {
     "base_uri": "https://localhost:8080/",
     "height": 475
    },
    "id": "RAcGJqAEcFTt",
    "outputId": "b9b8d158-82ad-4fe4-87d1-8a38b3f819c7"
   },
   "outputs": [
    {
     "data": {
      "image/png": "[encoded data removed]",
      "text/plain": [
       "<Figure size 1000x500 with 1 Axes>"
      ]
     },
     "metadata": {},
     "output_type": "display_data"
    }
   ],
   "source": [
    "plt.plot(np.arange(len(epoch_train_losses)), epoch_train_losses)\n",
    "plt.plot(np.arange(len(epoch_val_losses)), epoch_val_losses)\n",
    "plt.legend([\"training loss\", \"validation loss\"])\n",
    "plt.xlabel(\"Epoch\")\n",
    "plt.ylabel(\"Loss\")\n",
    "plt.yscale(\"log\")"
   ]
  },
  {
   "cell_type": "markdown",
   "metadata": {
    "id": "ddH_kQaRcFTt"
   },
   "source": [
    "## Test the model - Validation set\n",
    "\n"
   ]
  },
  {
   "cell_type": "code",
   "execution_count": 15,
   "metadata": {
    "colab": {
     "base_uri": "https://localhost:8080/",
     "height": 238
    },
    "id": "IYnJPDd9cFTt",
    "outputId": "dfac2188-b091-418c-a54a-9d2c03d9a94f"
   },
   "outputs": [
    {
     "data": {
      "text/html": [
       "\n",
       "  <div id=\"df-72af817f-1fbf-497b-933b-2a5f9159c332\">\n",
       "    <div class=\"colab-df-container\">\n",
       "      <div>\n",
       "<style scoped>\n",
       "    .dataframe tbody tr th:only-of-type {\n",
       "        vertical-align: middle;\n",
       "    }\n",
       "\n",
       "    .dataframe tbody tr th {\n",
       "        vertical-align: top;\n",
       "    }\n",
       "\n",
       "    .dataframe thead th {\n",
       "        text-align: right;\n",
       "    }\n",
       "</style>\n",
       "<table border=\"1\" class=\"dataframe\">\n",
       "  <thead>\n",
       "    <tr style=\"text-align: right;\">\n",
       "      <th>Prediction</th>\n",
       "      <th>0.0</th>\n",
       "    </tr>\n",
       "    <tr>\n",
       "      <th>Label</th>\n",
       "      <th></th>\n",
       "    </tr>\n",
       "  </thead>\n",
       "  <tbody>\n",
       "    <tr>\n",
       "      <th>0.0</th>\n",
       "      <td>2427</td>\n",
       "    </tr>\n",
       "    <tr>\n",
       "      <th>1.0</th>\n",
       "      <td>2223</td>\n",
       "    </tr>\n",
       "    <tr>\n",
       "      <th>2.0</th>\n",
       "      <td>5788</td>\n",
       "    </tr>\n",
       "    <tr>\n",
       "      <th>3.0</th>\n",
       "      <td>641</td>\n",
       "    </tr>\n",
       "    <tr>\n",
       "      <th>4.0</th>\n",
       "      <td>6431</td>\n",
       "    </tr>\n",
       "  </tbody>\n",
       "</table>\n",
       "</div>\n",
       "      <button class=\"colab-df-convert\" onclick=\"convertToInteractive('df-72af817f-1fbf-497b-933b-2a5f9159c332')\"\n",
       "              title=\"Convert this dataframe to an interactive table.\"\n",
       "              style=\"display:none;\">\n",
       "        \n",
       "  <svg xmlns=\"http://www.w3.org/2000/svg\" height=\"24px\"viewBox=\"0 0 24 24\"\n",
       "       width=\"24px\">\n",
       "    <path d=\"M0 0h24v24H0V0z\" fill=\"none\"/>\n",
       "    <path d=\"M18.56 5.44l.94 2.06.94-2.06 2.06-.94-2.06-.94-.94-2.06-.94 2.06-2.06.94zm-11 1L8.5 8.5l.94-2.06 2.06-.94-2.06-.94L8.5 2.5l-.94 2.06-2.06.94zm10 10l.94 2.06.94-2.06 2.06-.94-2.06-.94-.94-2.06-.94 2.06-2.06.94z\"/><path d=\"M17.41 7.96l-1.37-1.37c-.4-.4-.92-.59-1.43-.59-.52 0-1.04.2-1.43.59L10.3 9.45l-7.72 7.72c-.78.78-.78 2.05 0 2.83L4 21.41c.39.39.9.59 1.41.59.51 0 1.02-.2 1.41-.59l7.78-7.78 2.81-2.81c.8-.78.8-2.07 0-2.86zM5.41 20L4 18.59l7.72-7.72 1.47 1.35L5.41 20z\"/>\n",
       "  </svg>\n",
       "      </button>\n",
       "      \n",
       "  <style>\n",
       "    .colab-df-container {\n",
       "      display:flex;\n",
       "      flex-wrap:wrap;\n",
       "      gap: 12px;\n",
       "    }\n",
       "\n",
       "    .colab-df-convert {\n",
       "      background-color: #E8F0FE;\n",
       "      border: none;\n",
       "      border-radius: 50%;\n",
       "      cursor: pointer;\n",
       "      display: none;\n",
       "      fill: #1967D2;\n",
       "      height: 32px;\n",
       "      padding: 0 0 0 0;\n",
       "      width: 32px;\n",
       "    }\n",
       "\n",
       "    .colab-df-convert:hover {\n",
       "      background-color: #E2EBFA;\n",
       "      box-shadow: 0px 1px 2px rgba(60, 64, 67, 0.3), 0px 1px 3px 1px rgba(60, 64, 67, 0.15);\n",
       "      fill: #174EA6;\n",
       "    }\n",
       "\n",
       "    [theme=dark] .colab-df-convert {\n",
       "      background-color: #3B4455;\n",
       "      fill: #D2E3FC;\n",
       "    }\n",
       "\n",
       "    [theme=dark] .colab-df-convert:hover {\n",
       "      background-color: #434B5C;\n",
       "      box-shadow: 0px 1px 3px 1px rgba(0, 0, 0, 0.15);\n",
       "      filter: drop-shadow(0px 1px 2px rgba(0, 0, 0, 0.3));\n",
       "      fill: #FFFFFF;\n",
       "    }\n",
       "  </style>\n",
       "\n",
       "      <script>\n",
       "        const buttonEl =\n",
       "          document.querySelector('#df-72af817f-1fbf-497b-933b-2a5f9159c332 button.colab-df-convert');\n",
       "        buttonEl.style.display =\n",
       "          google.colab.kernel.accessAllowed ? 'block' : 'none';\n",
       "\n",
       "        async function convertToInteractive(key) {\n",
       "          const element = document.querySelector('#df-72af817f-1fbf-497b-933b-2a5f9159c332');\n",
       "          const dataTable =\n",
       "            await google.colab.kernel.invokeFunction('convertToInteractive',\n",
       "                                                     [key], {});\n",
       "          if (!dataTable) return;\n",
       "\n",
       "          const docLinkHtml = 'Like what you see? Visit the ' +\n",
       "            '<a target=\"_blank\" href=https://colab.research.google.com/notebooks/data_table.ipynb>data table notebook</a>'\n",
       "            + ' to learn more about interactive tables.';\n",
       "          element.innerHTML = '';\n",
       "          dataTable['output_type'] = 'display_data';\n",
       "          await google.colab.output.renderOutput(dataTable, element);\n",
       "          const docLink = document.createElement('div');\n",
       "          docLink.innerHTML = docLinkHtml;\n",
       "          element.appendChild(docLink);\n",
       "        }\n",
       "      </script>\n",
       "    </div>\n",
       "  </div>\n",
       "  "
      ],
      "text/plain": [
       "Prediction   0.0\n",
       "Label           \n",
       "0.0         2427\n",
       "1.0         2223\n",
       "2.0         5788\n",
       "3.0          641\n",
       "4.0         6431"
      ]
     },
     "execution_count": 15,
     "metadata": {},
     "output_type": "execute_result"
    }
   ],
   "source": [
    "predictions = []\n",
    "labels = []\n",
    "\n",
    "model.eval()\n",
    "with torch.no_grad():\n",
    "    for batch_id, (x, y_true) in enumerate(val_loader):\n",
    "        y_pred = model(x.to(device)).argmax(1)\n",
    "\n",
    "        predictions.extend(y_pred.squeeze().tolist())\n",
    "        labels.extend(y_true.squeeze().tolist())\n",
    "\n",
    "prediction_labels = pd.DataFrame(\n",
    "    np.array([predictions, labels]).T, columns=[\"Prediction\", \"Label\"]\n",
    ")\n",
    "cm = prediction_labels.groupby([\"Prediction\", \"Label\"]).size()\n",
    "cm.unstack(0)"
   ]
  },
  {
   "cell_type": "code",
   "execution_count": 16,
   "metadata": {
    "colab": {
     "base_uri": "https://localhost:8080/"
    },
    "id": "sG-snMThcFTt",
    "outputId": "a2afdafa-c307-418f-b1f3-f50a9fa532df"
   },
   "outputs": [
    {
     "name": "stdout",
     "output_type": "stream",
     "text": [
      "              precision    recall  f1-score   support\n",
      "\n",
      "         0.0       1.00      0.14      0.24     17510\n",
      "         1.0       0.00      0.00      0.00         0\n",
      "         2.0       0.00      0.00      0.00         0\n",
      "         3.0       0.00      0.00      0.00         0\n",
      "         4.0       0.00      0.00      0.00         0\n",
      "\n",
      "    accuracy                           0.14     17510\n",
      "   macro avg       0.20      0.03      0.05     17510\n",
      "weighted avg       1.00      0.14      0.24     17510\n",
      "\n"
     ]
    },
    {
     "name": "stderr",
     "output_type": "stream",
     "text": [
      "/usr/local/lib/python3.10/dist-packages/sklearn/metrics/_classification.py:1344: UndefinedMetricWarning: Recall and F-score are ill-defined and being set to 0.0 in labels with no true samples. Use `zero_division` parameter to control this behavior.\n",
      "  _warn_prf(average, modifier, msg_start, len(result))\n",
      "/usr/local/lib/python3.10/dist-packages/sklearn/metrics/_classification.py:1344: UndefinedMetricWarning: Recall and F-score are ill-defined and being set to 0.0 in labels with no true samples. Use `zero_division` parameter to control this behavior.\n",
      "  _warn_prf(average, modifier, msg_start, len(result))\n",
      "/usr/local/lib/python3.10/dist-packages/sklearn/metrics/_classification.py:1344: UndefinedMetricWarning: Recall and F-score are ill-defined and being set to 0.0 in labels with no true samples. Use `zero_division` parameter to control this behavior.\n",
      "  _warn_prf(average, modifier, msg_start, len(result))\n"
     ]
    }
   ],
   "source": [
    "print(classification_report(predictions, labels))"
   ]
  },
  {
   "cell_type": "markdown",
   "metadata": {
    "id": "mYeXrPftcFTu"
   },
   "source": [
    "## Test the model - Test set"
   ]
  },
  {
   "cell_type": "code",
   "execution_count": 17,
   "metadata": {
    "colab": {
     "base_uri": "https://localhost:8080/",
     "height": 238
    },
    "id": "W1ScD8chcFTu",
    "outputId": "13ec5a01-8f36-4e95-d1c8-c9ee66969c90"
   },
   "outputs": [
    {
     "data": {
      "text/html": [
       "\n",
       "  <div id=\"df-2533868d-73d1-4424-95dc-eb885f9ee025\">\n",
       "    <div class=\"colab-df-container\">\n",
       "      <div>\n",
       "<style scoped>\n",
       "    .dataframe tbody tr th:only-of-type {\n",
       "        vertical-align: middle;\n",
       "    }\n",
       "\n",
       "    .dataframe tbody tr th {\n",
       "        vertical-align: top;\n",
       "    }\n",
       "\n",
       "    .dataframe thead th {\n",
       "        text-align: right;\n",
       "    }\n",
       "</style>\n",
       "<table border=\"1\" class=\"dataframe\">\n",
       "  <thead>\n",
       "    <tr style=\"text-align: right;\">\n",
       "      <th>Prediction</th>\n",
       "      <th>0.0</th>\n",
       "      <th>1.0</th>\n",
       "      <th>2.0</th>\n",
       "      <th>3.0</th>\n",
       "      <th>4.0</th>\n",
       "    </tr>\n",
       "    <tr>\n",
       "      <th>Label</th>\n",
       "      <th></th>\n",
       "      <th></th>\n",
       "      <th></th>\n",
       "      <th></th>\n",
       "      <th></th>\n",
       "    </tr>\n",
       "  </thead>\n",
       "  <tbody>\n",
       "    <tr>\n",
       "      <th>0.0</th>\n",
       "      <td>18058.0</td>\n",
       "      <td>14.0</td>\n",
       "      <td>39.0</td>\n",
       "      <td>1.0</td>\n",
       "      <td>6.0</td>\n",
       "    </tr>\n",
       "    <tr>\n",
       "      <th>1.0</th>\n",
       "      <td>250.0</td>\n",
       "      <td>293.0</td>\n",
       "      <td>13.0</td>\n",
       "      <td>NaN</td>\n",
       "      <td>NaN</td>\n",
       "    </tr>\n",
       "    <tr>\n",
       "      <th>2.0</th>\n",
       "      <td>123.0</td>\n",
       "      <td>NaN</td>\n",
       "      <td>1315.0</td>\n",
       "      <td>8.0</td>\n",
       "      <td>2.0</td>\n",
       "    </tr>\n",
       "    <tr>\n",
       "      <th>3.0</th>\n",
       "      <td>70.0</td>\n",
       "      <td>NaN</td>\n",
       "      <td>28.0</td>\n",
       "      <td>64.0</td>\n",
       "      <td>NaN</td>\n",
       "    </tr>\n",
       "    <tr>\n",
       "      <th>4.0</th>\n",
       "      <td>70.0</td>\n",
       "      <td>NaN</td>\n",
       "      <td>8.0</td>\n",
       "      <td>NaN</td>\n",
       "      <td>1530.0</td>\n",
       "    </tr>\n",
       "  </tbody>\n",
       "</table>\n",
       "</div>\n",
       "      <button class=\"colab-df-convert\" onclick=\"convertToInteractive('df-2533868d-73d1-4424-95dc-eb885f9ee025')\"\n",
       "              title=\"Convert this dataframe to an interactive table.\"\n",
       "              style=\"display:none;\">\n",
       "        \n",
       "  <svg xmlns=\"http://www.w3.org/2000/svg\" height=\"24px\"viewBox=\"0 0 24 24\"\n",
       "       width=\"24px\">\n",
       "    <path d=\"M0 0h24v24H0V0z\" fill=\"none\"/>\n",
       "    <path d=\"M18.56 5.44l.94 2.06.94-2.06 2.06-.94-2.06-.94-.94-2.06-.94 2.06-2.06.94zm-11 1L8.5 8.5l.94-2.06 2.06-.94-2.06-.94L8.5 2.5l-.94 2.06-2.06.94zm10 10l.94 2.06.94-2.06 2.06-.94-2.06-.94-.94-2.06-.94 2.06-2.06.94z\"/><path d=\"M17.41 7.96l-1.37-1.37c-.4-.4-.92-.59-1.43-.59-.52 0-1.04.2-1.43.59L10.3 9.45l-7.72 7.72c-.78.78-.78 2.05 0 2.83L4 21.41c.39.39.9.59 1.41.59.51 0 1.02-.2 1.41-.59l7.78-7.78 2.81-2.81c.8-.78.8-2.07 0-2.86zM5.41 20L4 18.59l7.72-7.72 1.47 1.35L5.41 20z\"/>\n",
       "  </svg>\n",
       "      </button>\n",
       "      \n",
       "  <style>\n",
       "    .colab-df-container {\n",
       "      display:flex;\n",
       "      flex-wrap:wrap;\n",
       "      gap: 12px;\n",
       "    }\n",
       "\n",
       "    .colab-df-convert {\n",
       "      background-color: #E8F0FE;\n",
       "      border: none;\n",
       "      border-radius: 50%;\n",
       "      cursor: pointer;\n",
       "      display: none;\n",
       "      fill: #1967D2;\n",
       "      height: 32px;\n",
       "      padding: 0 0 0 0;\n",
       "      width: 32px;\n",
       "    }\n",
       "\n",
       "    .colab-df-convert:hover {\n",
       "      background-color: #E2EBFA;\n",
       "      box-shadow: 0px 1px 2px rgba(60, 64, 67, 0.3), 0px 1px 3px 1px rgba(60, 64, 67, 0.15);\n",
       "      fill: #174EA6;\n",
       "    }\n",
       "\n",
       "    [theme=dark] .colab-df-convert {\n",
       "      background-color: #3B4455;\n",
       "      fill: #D2E3FC;\n",
       "    }\n",
       "\n",
       "    [theme=dark] .colab-df-convert:hover {\n",
       "      background-color: #434B5C;\n",
       "      box-shadow: 0px 1px 3px 1px rgba(0, 0, 0, 0.15);\n",
       "      filter: drop-shadow(0px 1px 2px rgba(0, 0, 0, 0.3));\n",
       "      fill: #FFFFFF;\n",
       "    }\n",
       "  </style>\n",
       "\n",
       "      <script>\n",
       "        const buttonEl =\n",
       "          document.querySelector('#df-2533868d-73d1-4424-95dc-eb885f9ee025 button.colab-df-convert');\n",
       "        buttonEl.style.display =\n",
       "          google.colab.kernel.accessAllowed ? 'block' : 'none';\n",
       "\n",
       "        async function convertToInteractive(key) {\n",
       "          const element = document.querySelector('#df-2533868d-73d1-4424-95dc-eb885f9ee025');\n",
       "          const dataTable =\n",
       "            await google.colab.kernel.invokeFunction('convertToInteractive',\n",
       "                                                     [key], {});\n",
       "          if (!dataTable) return;\n",
       "\n",
       "          const docLinkHtml = 'Like what you see? Visit the ' +\n",
       "            '<a target=\"_blank\" href=https://colab.research.google.com/notebooks/data_table.ipynb>data table notebook</a>'\n",
       "            + ' to learn more about interactive tables.';\n",
       "          element.innerHTML = '';\n",
       "          dataTable['output_type'] = 'display_data';\n",
       "          await google.colab.output.renderOutput(dataTable, element);\n",
       "          const docLink = document.createElement('div');\n",
       "          docLink.innerHTML = docLinkHtml;\n",
       "          element.appendChild(docLink);\n",
       "        }\n",
       "      </script>\n",
       "    </div>\n",
       "  </div>\n",
       "  "
      ],
      "text/plain": [
       "Prediction      0.0    1.0     2.0   3.0     4.0\n",
       "Label                                           \n",
       "0.0         18058.0   14.0    39.0   1.0     6.0\n",
       "1.0           250.0  293.0    13.0   NaN     NaN\n",
       "2.0           123.0    NaN  1315.0   8.0     2.0\n",
       "3.0            70.0    NaN    28.0  64.0     NaN\n",
       "4.0            70.0    NaN     8.0   NaN  1530.0"
      ]
     },
     "execution_count": 17,
     "metadata": {},
     "output_type": "execute_result"
    }
   ],
   "source": [
    "test_set = ds(test_df.iloc[:, :-1], test_df.iloc[:, -1])\n",
    "test_loader = DataLoader(test_set, batch_size=batch_size * 4, shuffle=False)\n",
    "\n",
    "predictions = []\n",
    "\n",
    "model.eval()\n",
    "with torch.no_grad():\n",
    "    for fold in range(n_splits):\n",
    "        model = Model().to(device)\n",
    "        model.load_state_dict(torch.load(f\"model_fold_{fold}.pth\"))\n",
    "        model.eval()\n",
    "\n",
    "        fold_predictions = []\n",
    "        labels = []\n",
    "        for batch_id, (x, y_true) in enumerate(test_loader):\n",
    "            y_pred = model(x.to(device)).argmax(1)\n",
    "\n",
    "            fold_predictions.extend(y_pred.squeeze().tolist())\n",
    "            labels.extend(y_true.squeeze().tolist())\n",
    "        predictions.append(fold_predictions)\n",
    "\n",
    "predictions.append(labels)\n",
    "all_prediction_labels = pd.DataFrame(\n",
    "    np.array(predictions).T,\n",
    "    columns=[f\"fold {n}\" for n in range(n_splits)] + [\"Label\"],\n",
    "    #     columns=['fold 0', 'fold 1', 'fold 2','fold 3','fold 4', 'Label'],\n",
    "    #     columns=['fold 0', 'fold 1', 'fold 3', 'Label']\n",
    ")\n",
    "\n",
    "final_predictions = all_prediction_labels.iloc[:, :-1].mode(1).iloc[:, 0]\n",
    "prediction_labels = pd.DataFrame(\n",
    "    np.hstack(\n",
    "        [\n",
    "            final_predictions.values.reshape(-1, 1),\n",
    "            all_prediction_labels.loc[:, \"Label\"].values.reshape(-1, 1),\n",
    "        ]\n",
    "    ),\n",
    "    columns=[\"Prediction\", \"Label\"],\n",
    ")\n",
    "prediction_labels\n",
    "\n",
    "cm = prediction_labels.groupby([\"Prediction\", \"Label\"]).size()\n",
    "cm.unstack(0)"
   ]
  },
  {
   "attachments": {},
   "cell_type": "markdown",
   "metadata": {
    "id": "vPvKU2a8KSNR"
   },
   "source": [
    "Because our goal of this project is not to optimize the model's accuracy, we believed the weighted average of precision, recall, and f-1 score are good for our model. We had to make one change from the MidTerm report with the AdaptiveMaxPool1D layer because of its difficulty implementing in hardware. As a result we went with additional MaxPool1D layers instead. However, as you can see below the change didn't affect the models performance much."
   ]
  },
  {
   "cell_type": "code",
   "execution_count": 18,
   "metadata": {
    "colab": {
     "base_uri": "https://localhost:8080/"
    },
    "id": "V5UzU6tZcFTv",
    "outputId": "96bdabbe-0c3f-43b5-8f6b-ec1d99e29dfc"
   },
   "outputs": [
    {
     "name": "stdout",
     "output_type": "stream",
     "text": [
      "              precision    recall  f1-score   support\n",
      "\n",
      "         0.0       1.00      0.97      0.98     18571\n",
      "         1.0       0.53      0.95      0.68       307\n",
      "         2.0       0.91      0.94      0.92      1403\n",
      "         3.0       0.40      0.88      0.54        73\n",
      "         4.0       0.95      0.99      0.97      1538\n",
      "\n",
      "    accuracy                           0.97     21892\n",
      "   macro avg       0.76      0.95      0.82     21892\n",
      "weighted avg       0.98      0.97      0.97     21892\n",
      "\n"
     ]
    }
   ],
   "source": [
    "predictions = prediction_labels.loc[:, \"Prediction\"].values\n",
    "labels = prediction_labels.loc[:, \"Label\"].values\n",
    "print(classification_report(predictions, labels))"
   ]
  }
 ],
 "metadata": {
  "accelerator": "GPU",
  "colab": {
   "provenance": []
  },
  "gpuClass": "standard",
  "kernelspec": {
   "display_name": "Python 3",
   "language": "python",
   "name": "python3"
  },
  "language_info": {
   "codemirror_mode": {
    "name": "ipython",
    "version": 3
   },
   "file_extension": ".py",
   "mimetype": "text/x-python",
   "name": "python",
   "nbconvert_exporter": "python",
   "pygments_lexer": "ipython3",
   "version": "3.6.6"
  }
 },
 "nbformat": 4,
 "nbformat_minor": 0
}
