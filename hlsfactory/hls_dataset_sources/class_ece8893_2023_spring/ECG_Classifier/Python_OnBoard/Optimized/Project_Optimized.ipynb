{
 "cells": [
  {
   "cell_type": "code",
   "execution_count": 1,
   "id": "06393aab-2747-4753-81b7-4443594ad60c",
   "metadata": {},
   "outputs": [],
   "source": [
    "# Project"
   ]
  },
  {
   "cell_type": "code",
   "execution_count": 2,
   "id": "135555cd-cce8-4c64-81a7-d88211f53907",
   "metadata": {},
   "outputs": [
    {
     "data": {
      "application/javascript": [
       "\n",
       "try {\n",
       "require(['notebook/js/codecell'], function(codecell) {\n",
       "  codecell.CodeCell.options_default.highlight_modes[\n",
       "      'magic_text/x-csrc'] = {'reg':[/^%%microblaze/]};\n",
       "  Jupyter.notebook.events.one('kernel_ready.Kernel', function(){\n",
       "      Jupyter.notebook.get_cells().map(function(cell){\n",
       "          if (cell.cell_type == 'code'){ cell.auto_highlight(); } }) ;\n",
       "  });\n",
       "});\n",
       "} catch (e) {};\n"
      ]
     },
     "metadata": {},
     "output_type": "display_data"
    },
    {
     "data": {
      "application/javascript": [
       "\n",
       "try {\n",
       "require(['notebook/js/codecell'], function(codecell) {\n",
       "  codecell.CodeCell.options_default.highlight_modes[\n",
       "      'magic_text/x-csrc'] = {'reg':[/^%%pybind11/]};\n",
       "  Jupyter.notebook.events.one('kernel_ready.Kernel', function(){\n",
       "      Jupyter.notebook.get_cells().map(function(cell){\n",
       "          if (cell.cell_type == 'code'){ cell.auto_highlight(); } }) ;\n",
       "  });\n",
       "});\n",
       "} catch (e) {};\n"
      ]
     },
     "metadata": {},
     "output_type": "display_data"
    }
   ],
   "source": [
    "import pynq\n",
    "import time\n",
    "import numpy as np"
   ]
  },
  {
   "cell_type": "code",
   "execution_count": 3,
   "id": "69175086-f7d4-4850-9bbf-56fa83ab8937",
   "metadata": {},
   "outputs": [],
   "source": [
    "bitstream = \"tiled_conv.bit\"\n",
    "overlay = pynq.Overlay(bitstream)"
   ]
  },
  {
   "cell_type": "code",
   "execution_count": 4,
   "id": "cd4d4dca-461e-400c-832f-1819aebee12d",
   "metadata": {},
   "outputs": [],
   "source": [
    "# overlay?"
   ]
  },
  {
   "cell_type": "code",
   "execution_count": 5,
   "id": "2b4e460a-e99b-4544-9e90-3aa366818985",
   "metadata": {},
   "outputs": [],
   "source": [
    "dut = overlay.tiled_conv_0"
   ]
  },
  {
   "cell_type": "code",
   "execution_count": 6,
   "id": "07075ae1-355c-4ed8-bab5-ee38321e9f8b",
   "metadata": {},
   "outputs": [],
   "source": [
    "# dut?"
   ]
  },
  {
   "cell_type": "code",
   "execution_count": 7,
   "id": "f54c2819-b553-4c89-86bf-1a78d77cfd07",
   "metadata": {},
   "outputs": [],
   "source": [
    "# Read bin files\n",
    "\n",
    "with open(\"../../bin/conv1_weights.bin\", \"rb\") as file:\n",
    "    conv1_weights = file.read()\n",
    "with open(\"../../bin/conv1_bias.bin\", \"rb\") as file:\n",
    "    conv1_bias = file.read()\n",
    "with open(\"../../bin/conv2_weights.bin\", \"rb\") as file:\n",
    "    conv2_weights = file.read()\n",
    "with open(\"../../bin/conv2_bias.bin\", \"rb\") as file:\n",
    "    conv2_bias = file.read()\n",
    "with open(\"../../bin/conv3_weights.bin\", \"rb\") as file:\n",
    "    conv3_weights = file.read()\n",
    "with open(\"../../bin/conv3_bias.bin\", \"rb\") as file:\n",
    "    conv3_bias = file.read()\n",
    "with open(\"../../bin/conv4_weights.bin\", \"rb\") as file:\n",
    "    conv4_weights = file.read()\n",
    "with open(\"../../bin/conv4_bias.bin\", \"rb\") as file:\n",
    "    conv4_bias = file.read()\n",
    "\n",
    "with open(\"../../bin/dense1_weights.bin\", \"rb\") as file:\n",
    "    dense1_weights = file.read()\n",
    "with open(\"../../bin/dense1_bias.bin\", \"rb\") as file:\n",
    "    dense1_bias = file.read()\n",
    "with open(\"../../bin/dense2_weights.bin\", \"rb\") as file:\n",
    "    dense2_weights = file.read()\n",
    "with open(\"../../bin/dense2_bias.bin\", \"rb\") as file:\n",
    "    dense2_bias = file.read()"
   ]
  },
  {
   "cell_type": "code",
   "execution_count": 8,
   "id": "a1fdb346-b374-4218-90e6-59cddc8ef5ce",
   "metadata": {},
   "outputs": [
    {
     "name": "stdout",
     "output_type": "stream",
     "text": [
      "(32, 1, 5)\n",
      "(32,)\n",
      "(32, 32, 5)\n",
      "(32,)\n",
      "(32, 32, 5)\n",
      "(32,)\n",
      "(32, 32, 5)\n",
      "(32,)\n",
      "(32, 64)\n",
      "(32,)\n",
      "(5, 32)\n",
      "(5,)\n"
     ]
    }
   ],
   "source": [
    "arr_conv1 = np.frombuffer(conv1_weights, dtype=np.float32)\n",
    "arr_conv1 = arr_conv1.reshape((32, 1, 5))\n",
    "print(arr_conv1.shape)\n",
    "\n",
    "arr_conv1_bias = np.frombuffer(conv1_bias, dtype=np.float32)\n",
    "arr_conv1_bias = arr_conv1_bias.reshape((32))\n",
    "print(arr_conv1_bias.shape)\n",
    "\n",
    "arr_conv2 = np.frombuffer(conv2_weights, dtype=np.float32)\n",
    "arr_conv2 = arr_conv2.reshape((32, 32, 5))\n",
    "print(arr_conv2.shape)\n",
    "\n",
    "arr_conv2_bias = np.frombuffer(conv2_bias, dtype=np.float32)\n",
    "arr_conv2_bias = arr_conv2_bias.reshape((32))\n",
    "print(arr_conv2_bias.shape)\n",
    "\n",
    "arr_conv3 = np.frombuffer(conv3_weights, dtype=np.float32)\n",
    "arr_conv3 = arr_conv3.reshape((32, 32, 5))\n",
    "print(arr_conv3.shape)\n",
    "\n",
    "arr_conv3_bias = np.frombuffer(conv3_bias, dtype=np.float32)\n",
    "arr_conv3_bias = arr_conv3_bias.reshape((32))\n",
    "print(arr_conv3_bias.shape)\n",
    "\n",
    "arr_conv4 = np.frombuffer(conv4_weights, dtype=np.float32)\n",
    "arr_conv4 = arr_conv4.reshape((32, 32, 5))\n",
    "print(arr_conv4.shape)\n",
    "\n",
    "arr_conv4_bias = np.frombuffer(conv4_bias, dtype=np.float32)\n",
    "arr_conv4_bias = arr_conv4_bias.reshape((32))\n",
    "print(arr_conv4_bias.shape)\n",
    "\n",
    "arr_dense1 = np.frombuffer(dense1_weights, dtype=np.float32)\n",
    "arr_dense1 = arr_dense1.reshape((32, 64))\n",
    "print(arr_dense1.shape)\n",
    "\n",
    "arr_dense1_bias = np.frombuffer(dense1_bias, dtype=np.float32)\n",
    "arr_dense1_bias = arr_dense1_bias.reshape((32))\n",
    "print(arr_dense1_bias.shape)\n",
    "\n",
    "arr_dense2 = np.frombuffer(dense2_weights, dtype=np.float32)\n",
    "arr_dense2 = arr_dense2.reshape((5, 32))\n",
    "print(arr_dense2.shape)\n",
    "\n",
    "arr_dense2_bias = np.frombuffer(dense2_bias, dtype=np.float32)\n",
    "arr_dense2_bias = arr_dense2_bias.reshape((5))\n",
    "print(arr_dense2_bias.shape)"
   ]
  },
  {
   "cell_type": "code",
   "execution_count": 9,
   "id": "e66fab74-7c3e-4c21-b5be-3b90a635a0fc",
   "metadata": {},
   "outputs": [],
   "source": [
    "# Create empty arrays for fixed point conversion\n",
    "fixed_input = np.ones((1, 1, 187), dtype=\"u2\")\n",
    "\n",
    "fixed_conv1_weights = np.zeros((32, 1, 5), dtype=\"u2\")\n",
    "fixed_conv1_bias = np.zeros((32), dtype=\"u2\")\n",
    "\n",
    "fixed_conv2_weights = np.zeros((32, 32, 5), dtype=\"u2\")\n",
    "fixed_conv2_bias = np.zeros((32), dtype=\"u2\")\n",
    "\n",
    "fixed_conv3_weights = np.zeros((32, 32, 5), dtype=\"u2\")\n",
    "fixed_conv3_bias = np.zeros((32), dtype=\"u2\")\n",
    "\n",
    "fixed_conv4_weights = np.zeros((32, 32, 5), dtype=\"u2\")\n",
    "fixed_conv4_bias = np.zeros((32), dtype=\"u2\")\n",
    "\n",
    "fixed_conv4_weights = np.zeros((32, 32, 5), dtype=\"u2\")\n",
    "fixed_conv4_bias = np.zeros((32), dtype=\"u2\")\n",
    "\n",
    "fixed_dense1_weights = np.zeros((32, 64), dtype=\"u2\")\n",
    "fixed_dense1_bias = np.zeros((32), dtype=\"u2\")\n",
    "\n",
    "fixed_dense2_weights = np.zeros((5, 32), dtype=\"u2\")\n",
    "fixed_dense2_bias = np.zeros((5), dtype=\"u2\")\n",
    "\n",
    "fixed_output = np.zeros((5), dtype=\"u2\")"
   ]
  },
  {
   "cell_type": "code",
   "execution_count": 10,
   "id": "36753855-fdfd-4908-b803-6c23585283ed",
   "metadata": {},
   "outputs": [],
   "source": [
    "# Convert from floating point to fixed-point\n",
    "from fixed_point_converter import to_fixed_point, from_fixed_point\n",
    "\n",
    "to_fixed_point(fixed_conv1_weights, arr_conv1, iwidth=6)\n",
    "to_fixed_point(fixed_conv1_bias, arr_conv1_bias, iwidth=6)\n",
    "\n",
    "to_fixed_point(fixed_conv2_weights, arr_conv2, iwidth=6)\n",
    "to_fixed_point(fixed_conv2_bias, arr_conv2_bias, iwidth=6)\n",
    "\n",
    "to_fixed_point(fixed_conv3_weights, arr_conv3, iwidth=6)\n",
    "to_fixed_point(fixed_conv3_bias, arr_conv3_bias, iwidth=6)\n",
    "\n",
    "to_fixed_point(fixed_conv4_weights, arr_conv4, iwidth=6)\n",
    "to_fixed_point(fixed_conv4_bias, arr_conv4_bias, iwidth=6)\n",
    "\n",
    "to_fixed_point(fixed_dense1_weights, arr_dense1, iwidth=6)\n",
    "to_fixed_point(fixed_dense1_bias, arr_dense1_bias, iwidth=6)\n",
    "\n",
    "to_fixed_point(fixed_dense2_weights, arr_dense2, iwidth=6)\n",
    "to_fixed_point(fixed_dense2_bias, arr_dense2_bias, iwidth=6)"
   ]
  },
  {
   "cell_type": "code",
   "execution_count": 11,
   "id": "7689c794-88f3-4b1d-a2ce-c00ce9c21973",
   "metadata": {},
   "outputs": [],
   "source": [
    "# Allocate buffers in board\n",
    "input_buff = pynq.allocate((1, 1, 187), dtype=\"u2\")\n",
    "\n",
    "conv1_buff = pynq.allocate((32, 1, 5), dtype=\"u2\")\n",
    "conv1_bias_buff = pynq.allocate((32), dtype=\"u2\")\n",
    "\n",
    "conv2_buff = pynq.allocate((32, 32, 5), dtype=\"u2\")\n",
    "conv2_bias_buff = pynq.allocate((32), dtype=\"u2\")\n",
    "\n",
    "conv3_buff = pynq.allocate((32, 32, 5), dtype=\"u2\")\n",
    "conv3_bias_buff = pynq.allocate((32), dtype=\"u2\")\n",
    "\n",
    "conv4_buff = pynq.allocate((32, 32, 5), dtype=\"u2\")\n",
    "conv4_bias_buff = pynq.allocate((32), dtype=\"u2\")\n",
    "\n",
    "dense1_buff = pynq.allocate((32, 64), dtype=\"u2\")\n",
    "dense1_bias_buff = pynq.allocate((32), dtype=\"u2\")\n",
    "\n",
    "dense2_buff = pynq.allocate((5, 32), dtype=\"u2\")\n",
    "dense2_bias_buff = pynq.allocate((5), dtype=\"u2\")\n",
    "\n",
    "output_buff = pynq.allocate((5), dtype=\"u2\")"
   ]
  },
  {
   "cell_type": "code",
   "execution_count": 12,
   "id": "3a521092-91d2-498d-9124-a75e8af8a4dc",
   "metadata": {},
   "outputs": [],
   "source": [
    "# Load fixed-point arrays to board\n",
    "input_buff[:] = fixed_input\n",
    "\n",
    "conv1_buff[:] = fixed_conv1_weights\n",
    "conv1_bias_buff[:] = fixed_conv1_bias\n",
    "\n",
    "conv2_buff[:] = fixed_conv2_weights\n",
    "conv2_bias_buff[:] = fixed_conv2_bias\n",
    "\n",
    "conv3_buff[:] = fixed_conv3_weights\n",
    "conv3_bias_buff[:] = fixed_conv3_bias\n",
    "\n",
    "conv4_buff[:] = fixed_conv4_weights\n",
    "conv4_bias_buff[:] = fixed_conv4_bias\n",
    "\n",
    "dense1_buff[:] = fixed_dense1_weights\n",
    "dense1_bias_buff[:] = fixed_dense1_bias\n",
    "\n",
    "dense2_buff[:] = fixed_dense2_weights\n",
    "dense2_bias_buff[:] = fixed_dense2_bias\n",
    "\n",
    "output_buff[:] = fixed_output"
   ]
  },
  {
   "cell_type": "code",
   "execution_count": 13,
   "id": "e1c46d8b-9a7e-4c6a-b8ea-74371de9ae9d",
   "metadata": {},
   "outputs": [],
   "source": [
    "input_buff.sync_to_device()\n",
    "\n",
    "conv1_buff.sync_to_device()\n",
    "conv1_bias_buff.sync_to_device()\n",
    "\n",
    "conv2_buff.sync_to_device()\n",
    "conv2_bias_buff.sync_to_device()\n",
    "\n",
    "conv3_buff.sync_to_device()\n",
    "conv3_bias_buff.sync_to_device()\n",
    "\n",
    "conv4_buff.sync_to_device()\n",
    "conv4_bias_buff.sync_to_device()\n",
    "\n",
    "dense1_buff.sync_to_device()\n",
    "dense1_bias_buff.sync_to_device()\n",
    "\n",
    "dense2_buff.sync_to_device()\n",
    "dense2_bias_buff.sync_to_device()\n",
    "\n",
    "output_buff.sync_to_device()"
   ]
  },
  {
   "cell_type": "code",
   "execution_count": 14,
   "id": "98e220da-bd01-4b7d-898b-bbe0fd4b5130",
   "metadata": {},
   "outputs": [
    {
     "data": {
      "text/plain": [
       "RegisterMap {\n",
       "  CTRL = Register(AP_START=0, AP_DONE=0, AP_IDLE=1, AP_READY=0, RESERVED_1=0, AUTO_RESTART=0, RESERVED_2=0, INTERRUPT=0, RESERVED_3=0),\n",
       "  GIER = Register(Enable=0, RESERVED=0),\n",
       "  IP_IER = Register(CHAN0_INT_EN=0, CHAN1_INT_EN=0, RESERVED_0=0),\n",
       "  IP_ISR = Register(CHAN0_INT_ST=0, CHAN1_INT_ST=0, RESERVED_0=0),\n",
       "  input_feature_map_1 = Register(input_feature_map=write-only),\n",
       "  input_feature_map_2 = Register(input_feature_map=write-only),\n",
       "  fixp_conv_layer_weights1_1 = Register(fixp_conv_layer_weights1=write-only),\n",
       "  fixp_conv_layer_weights1_2 = Register(fixp_conv_layer_weights1=write-only),\n",
       "  fixp_conv_layer_bias1_1 = Register(fixp_conv_layer_bias1=write-only),\n",
       "  fixp_conv_layer_bias1_2 = Register(fixp_conv_layer_bias1=write-only),\n",
       "  fixp_conv_layer_weights2_1 = Register(fixp_conv_layer_weights2=write-only),\n",
       "  fixp_conv_layer_weights2_2 = Register(fixp_conv_layer_weights2=write-only),\n",
       "  fixp_conv_layer_bias2_1 = Register(fixp_conv_layer_bias2=write-only),\n",
       "  fixp_conv_layer_bias2_2 = Register(fixp_conv_layer_bias2=write-only),\n",
       "  fixp_conv_layer_weights3_1 = Register(fixp_conv_layer_weights3=write-only),\n",
       "  fixp_conv_layer_weights3_2 = Register(fixp_conv_layer_weights3=write-only),\n",
       "  fixp_conv_layer_bias3_1 = Register(fixp_conv_layer_bias3=write-only),\n",
       "  fixp_conv_layer_bias3_2 = Register(fixp_conv_layer_bias3=write-only),\n",
       "  fixp_conv_layer_weights4_1 = Register(fixp_conv_layer_weights4=write-only),\n",
       "  fixp_conv_layer_weights4_2 = Register(fixp_conv_layer_weights4=write-only),\n",
       "  fixp_conv_layer_bias4_1 = Register(fixp_conv_layer_bias4=write-only),\n",
       "  fixp_conv_layer_bias4_2 = Register(fixp_conv_layer_bias4=write-only),\n",
       "  fixp_dense1_weights_1 = Register(fixp_dense1_weights=write-only),\n",
       "  fixp_dense1_weights_2 = Register(fixp_dense1_weights=write-only),\n",
       "  fixp_dense1_bias_1 = Register(fixp_dense1_bias=write-only),\n",
       "  fixp_dense1_bias_2 = Register(fixp_dense1_bias=write-only),\n",
       "  fixp_dense2_weights_1 = Register(fixp_dense2_weights=write-only),\n",
       "  fixp_dense2_weights_2 = Register(fixp_dense2_weights=write-only),\n",
       "  fixp_dense2_bias_1 = Register(fixp_dense2_bias=write-only),\n",
       "  fixp_dense2_bias_2 = Register(fixp_dense2_bias=write-only),\n",
       "  output_feature_map_1 = Register(output_feature_map=write-only),\n",
       "  output_feature_map_2 = Register(output_feature_map=write-only)\n",
       "}"
      ]
     },
     "execution_count": 14,
     "metadata": {},
     "output_type": "execute_result"
    }
   ],
   "source": [
    "dut.register_map"
   ]
  },
  {
   "cell_type": "code",
   "execution_count": 15,
   "id": "dd3f33df-6ad5-4fb4-9984-a457d98afcb3",
   "metadata": {},
   "outputs": [],
   "source": [
    "dut.register_map.input_feature_map_1 = input_buff.device_address & 0xFFFFFFFF\n",
    "dut.register_map.input_feature_map_2 = input_buff.device_address >> 32\n",
    "\n",
    "dut.register_map.fixp_conv_layer_weights1_1 = conv1_buff.device_address & 0xFFFFFFFF\n",
    "dut.register_map.fixp_conv_layer_weights1_2 = conv1_buff.device_address >> 32\n",
    "\n",
    "dut.register_map.fixp_conv_layer_bias1_1 = conv1_bias_buff.device_address & 0xFFFFFFFF\n",
    "dut.register_map.fixp_conv_layer_bias1_2 = conv1_bias_buff.device_address >> 32\n",
    "\n",
    "dut.register_map.fixp_conv_layer_weights2_1 = conv2_buff.device_address & 0xFFFFFFFF\n",
    "dut.register_map.fixp_conv_layer_weights2_2 = conv2_buff.device_address >> 32\n",
    "\n",
    "dut.register_map.fixp_conv_layer_bias2_1 = conv2_bias_buff.device_address & 0xFFFFFFFF\n",
    "dut.register_map.fixp_conv_layer_bias2_2 = conv2_bias_buff.device_address >> 32\n",
    "\n",
    "dut.register_map.fixp_conv_layer_weights3_1 = conv3_buff.device_address & 0xFFFFFFFF\n",
    "dut.register_map.fixp_conv_layer_weights3_2 = conv3_buff.device_address >> 32\n",
    "\n",
    "dut.register_map.fixp_conv_layer_bias3_1 = conv3_bias_buff.device_address & 0xFFFFFFFF\n",
    "dut.register_map.fixp_conv_layer_bias3_2 = conv3_bias_buff.device_address >> 32\n",
    "\n",
    "dut.register_map.fixp_conv_layer_weights4_1 = conv4_buff.device_address & 0xFFFFFFFF\n",
    "dut.register_map.fixp_conv_layer_weights4_2 = conv4_buff.device_address >> 32\n",
    "\n",
    "dut.register_map.fixp_conv_layer_bias4_1 = conv4_bias_buff.device_address & 0xFFFFFFFF\n",
    "dut.register_map.fixp_conv_layer_bias4_2 = conv4_bias_buff.device_address >> 32\n",
    "\n",
    "dut.register_map.fixp_dense1_weights_1 = dense1_buff.device_address & 0xFFFFFFFF\n",
    "dut.register_map.fixp_dense1_weights_2 = dense1_buff.device_address >> 32\n",
    "\n",
    "dut.register_map.fixp_dense1_bias_1 = dense1_bias_buff.device_address & 0xFFFFFFFF\n",
    "dut.register_map.fixp_dense1_bias_2 = dense1_bias_buff.device_address >> 32\n",
    "\n",
    "dut.register_map.fixp_dense2_weights_1 = dense2_buff.device_address & 0xFFFFFFFF\n",
    "dut.register_map.fixp_dense2_weights_2 = dense2_buff.device_address >> 32\n",
    "\n",
    "dut.register_map.fixp_dense2_bias_1 = dense2_bias_buff.device_address & 0xFFFFFFFF\n",
    "dut.register_map.fixp_dense2_bias_2 = dense2_bias_buff.device_address >> 32\n",
    "\n",
    "\n",
    "dut.register_map.output_feature_map_1 = output_buff.device_address & 0xFFFFFFFF\n",
    "dut.register_map.output_feature_map_2 = output_buff.device_address >> 32"
   ]
  },
  {
   "cell_type": "code",
   "execution_count": 16,
   "id": "3998a77b-244a-4aa1-a96e-f105aa071db8",
   "metadata": {},
   "outputs": [
    {
     "name": "stdout",
     "output_type": "stream",
     "text": [
      "Kernel completed in 8.86ms\n"
     ]
    }
   ],
   "source": [
    "start_time = time.time()\n",
    "\n",
    "dut.register_map.CTRL.AP_START = 1\n",
    "dut.register_map.CTRL[4] = 1\n",
    "while not dut.register_map.CTRL.AP_DONE:\n",
    "    pass\n",
    "\n",
    "end_time = time.time()\n",
    "duration = end_time - start_time\n",
    "print(f\"Kernel completed in {duration * 1000:.2f}ms\")"
   ]
  },
  {
   "cell_type": "code",
   "execution_count": 17,
   "id": "924bf0f7-b8ce-4108-b67f-ded87515e7de",
   "metadata": {},
   "outputs": [],
   "source": [
    "overlay.free()"
   ]
  }
 ],
 "metadata": {
  "kernelspec": {
   "display_name": "Python 3",
   "language": "python",
   "name": "python3"
  },
  "language_info": {
   "codemirror_mode": {
    "name": "ipython",
    "version": 3
   },
   "file_extension": ".py",
   "mimetype": "text/x-python",
   "name": "python",
   "nbconvert_exporter": "python",
   "pygments_lexer": "ipython3",
   "version": "3.8.2"
  }
 },
 "nbformat": 4,
 "nbformat_minor": 5
}
