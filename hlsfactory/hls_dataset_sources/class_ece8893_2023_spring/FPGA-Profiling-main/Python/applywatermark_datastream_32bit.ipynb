{
 "cells": [
  {
   "cell_type": "code",
   "execution_count": 1,
   "id": "3fa949e0-3c6f-4b60-a3cb-2e50609a270d",
   "metadata": {},
   "outputs": [
    {
     "data": {
      "application/javascript": [
       "\n",
       "try {\n",
       "require(['notebook/js/codecell'], function(codecell) {\n",
       "  codecell.CodeCell.options_default.highlight_modes[\n",
       "      'magic_text/x-csrc'] = {'reg':[/^%%microblaze/]};\n",
       "  Jupyter.notebook.events.one('kernel_ready.Kernel', function(){\n",
       "      Jupyter.notebook.get_cells().map(function(cell){\n",
       "          if (cell.cell_type == 'code'){ cell.auto_highlight(); } }) ;\n",
       "  });\n",
       "});\n",
       "} catch (e) {};\n"
      ]
     },
     "metadata": {},
     "output_type": "display_data"
    },
    {
     "data": {
      "application/javascript": [
       "\n",
       "try {\n",
       "require(['notebook/js/codecell'], function(codecell) {\n",
       "  codecell.CodeCell.options_default.highlight_modes[\n",
       "      'magic_text/x-csrc'] = {'reg':[/^%%pybind11/]};\n",
       "  Jupyter.notebook.events.one('kernel_ready.Kernel', function(){\n",
       "      Jupyter.notebook.get_cells().map(function(cell){\n",
       "          if (cell.cell_type == 'code'){ cell.auto_highlight(); } }) ;\n",
       "  });\n",
       "});\n",
       "} catch (e) {};\n"
      ]
     },
     "metadata": {},
     "output_type": "display_data"
    }
   ],
   "source": [
    "import pynq\n",
    "import time\n",
    "from PIL import Image\n",
    "import numpy as np\n",
    "\n",
    "# Open BMP file\n",
    "img = Image.open(\"xilinx_img.bmp\")\n",
    "goldImg = Image.open(\"golden.bmp\")\n",
    "\n",
    "# print(img.size)\n",
    "\n",
    "# Convert image to NumPy array\n",
    "img_arr = np.array(img)\n",
    "golden_arr = np.array(goldImg)\n",
    "# print(img_arr.shape)\n",
    "\n",
    "# Convert each pixel from (R, G, B) to a single 4-byte integer\n",
    "pixel_arr = np.zeros((img_arr.shape[0] * img_arr.shape[1]), dtype=np.uint32)\n",
    "golden_pixel_arr = np.zeros(\n",
    "    (golden_arr.shape[0] * golden_arr.shape[1]), dtype=np.uint32\n",
    ")\n",
    "for i in range(img_arr.shape[0]):\n",
    "    for j in range(img_arr.shape[1]):\n",
    "        pixel_arr[(i * img_arr.shape[1] + j)] = (\n",
    "            pixel_arr[(i * img_arr.shape[1] + j)] | img_arr[i, j, 0]\n",
    "        )\n",
    "        pixel_arr[(i * img_arr.shape[1] + j)] = pixel_arr[\n",
    "            (i * img_arr.shape[1] + j)\n",
    "        ] | (img_arr[i, j, 1] << 8)\n",
    "        pixel_arr[(i * img_arr.shape[1] + j)] = pixel_arr[\n",
    "            (i * img_arr.shape[1] + j)\n",
    "        ] | (img_arr[i, j, 2] << 16)\n",
    "        golden_pixel_arr[(i * img_arr.shape[1] + j)] = (\n",
    "            golden_pixel_arr[(i * img_arr.shape[1] + j)] | golden_arr[i, j, 0]\n",
    "        )\n",
    "        golden_pixel_arr[(i * img_arr.shape[1] + j)] = golden_pixel_arr[\n",
    "            (i * img_arr.shape[1] + j)\n",
    "        ] | (golden_arr[i, j, 1] << 8)\n",
    "        golden_pixel_arr[(i * img_arr.shape[1] + j)] = golden_pixel_arr[\n",
    "            (i * img_arr.shape[1] + j)\n",
    "        ] | (golden_arr[i, j, 2] << 16)"
   ]
  },
  {
   "cell_type": "code",
   "execution_count": 2,
   "id": "cd760b24-e9ef-435b-9d57-54db1961d8cd",
   "metadata": {},
   "outputs": [],
   "source": [
    "bitstream = \"applyWatermark_dataflow.bit\"\n",
    "overlay = pynq.Overlay(bitstream)\n",
    "\n",
    "# overlay?"
   ]
  },
  {
   "cell_type": "code",
   "execution_count": 3,
   "id": "8c347d49-f464-461c-b19a-bebe03770764",
   "metadata": {},
   "outputs": [],
   "source": [
    "dut = overlay.apply_watermark_0\n",
    "# dut?"
   ]
  },
  {
   "cell_type": "code",
   "execution_count": 4,
   "id": "3e9173b5-61e6-40d2-b60d-c106f2c8253d",
   "metadata": {},
   "outputs": [],
   "source": [
    "fpgaPixel = pynq.allocate((img_arr.shape[0] * img_arr.shape[1]), dtype=\"int32\")\n",
    "fpgaOutput = pynq.allocate((img_arr.shape[0] * img_arr.shape[1]), dtype=\"int32\")\n",
    "\n",
    "fpgaPixel[:] = pixel_arr\n",
    "\n",
    "fpgaPixel.sync_to_device()\n",
    "\n",
    "# dut.register_map"
   ]
  },
  {
   "cell_type": "code",
   "execution_count": 5,
   "id": "be51b300-ed0a-4646-8634-f201f6f72f78",
   "metadata": {},
   "outputs": [
    {
     "name": "stdout",
     "output_type": "stream",
     "text": [
      "Kernel completed in 5.21ms\n"
     ]
    }
   ],
   "source": [
    "dut.register_map.input_r_1 = fpgaPixel.device_address & 0xFFFFFFFF\n",
    "dut.register_map.input_r_2 = fpgaPixel.device_address >> 32\n",
    "\n",
    "dut.register_map.output_r_1 = fpgaOutput.device_address & 0xFFFFFFFF\n",
    "dut.register_map.output_r_2 = fpgaOutput.device_address >> 32\n",
    "\n",
    "start_time = time.time()\n",
    "\n",
    "dut.register_map.CTRL.AP_START = 1\n",
    "dut.register_map.CTRL[4] = 1\n",
    "while not dut.register_map.CTRL.AP_DONE:\n",
    "    pass\n",
    "\n",
    "end_time = time.time()\n",
    "duration = end_time - start_time\n",
    "print(f\"Kernel completed in {duration * 1000:.2f}ms\")"
   ]
  },
  {
   "cell_type": "code",
   "execution_count": 6,
   "id": "ba40f133-2494-47aa-9ed5-a96e459cc23d",
   "metadata": {},
   "outputs": [],
   "source": [
    "fpgaOutput.sync_from_device()\n",
    "output_pixel_arr = np.zeros(\n",
    "    (golden_arr.shape[0] * golden_arr.shape[1]), dtype=np.uint32\n",
    ")\n",
    "output_pixel_arr[:] = fpgaOutput"
   ]
  },
  {
   "cell_type": "code",
   "execution_count": 7,
   "id": "dcb73f3f-2140-45e8-b08f-5af0db7fec44",
   "metadata": {},
   "outputs": [
    {
     "name": "stdout",
     "output_type": "stream",
     "text": [
      "!!!!!!!!Execution SUCCESS!!!!!!!!!!!!\n"
     ]
    }
   ],
   "source": [
    "# Your code goes here (verify)\n",
    "match = 1\n",
    "numOfPix = golden_arr.shape[0] * golden_arr.shape[1]\n",
    "for i in range(numOfPix):\n",
    "    if output_pixel_arr[i] != golden_pixel_arr[i]:\n",
    "        match = 0\n",
    "        print(\"pixel mismatch at\", i, \" location\")\n",
    "        break\n",
    "if match:\n",
    "    print(\"!!!!!!!!Execution SUCCESS!!!!!!!!!!!!\")\n",
    "else:\n",
    "    print(\"!!!!!!!!Execution FAILED!!!!!!!!!!!!\")\n",
    "overlay.free()"
   ]
  },
  {
   "cell_type": "code",
   "execution_count": null,
   "id": "385d858a-385b-46c5-b680-2e5e3b548010",
   "metadata": {},
   "outputs": [],
   "source": [
    "img_arr_new = np.empty(\n",
    "    (img_arr.shape[0], img_arr.shape[1], img_arr.shape[2]), dtype=np.uint8\n",
    ")\n",
    "for i in range(img_arr.shape[0]):\n",
    "    for j in range(img_arr.shape[1]):\n",
    "        img_arr_new[i, j, 0] = (output_pixel_arr[(i * img_arr.shape[1] + j)]) & 0xFF\n",
    "        img_arr_new[i, j, 1] = (\n",
    "            output_pixel_arr[(i * img_arr.shape[1] + j)] >> 8\n",
    "        ) & 0xFF\n",
    "        img_arr_new[i, j, 2] = (\n",
    "            output_pixel_arr[(i * img_arr.shape[1] + j)] >> 16\n",
    "        ) & 0xFF\n",
    "\n",
    "new_img = Image.fromarray(img_arr_new, mode=\"RGB\")\n",
    "new_img.save(\"new_file_name32.bmp\")"
   ]
  },
  {
   "cell_type": "code",
   "execution_count": null,
   "id": "ad90b0a8-7ac0-4513-908e-f50ce12d2b53",
   "metadata": {},
   "outputs": [],
   "source": []
  }
 ],
 "metadata": {
  "kernelspec": {
   "display_name": "Python 3",
   "language": "python",
   "name": "python3"
  },
  "language_info": {
   "codemirror_mode": {
    "name": "ipython",
    "version": 3
   },
   "file_extension": ".py",
   "mimetype": "text/x-python",
   "name": "python",
   "nbconvert_exporter": "python",
   "pygments_lexer": "ipython3",
   "version": "3.8.2"
  }
 },
 "nbformat": 4,
 "nbformat_minor": 5
}
