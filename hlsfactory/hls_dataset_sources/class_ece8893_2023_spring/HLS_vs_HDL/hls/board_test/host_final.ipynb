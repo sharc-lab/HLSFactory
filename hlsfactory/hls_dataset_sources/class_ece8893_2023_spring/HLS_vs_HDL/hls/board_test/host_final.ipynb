{
 "cells": [
  {
   "cell_type": "code",
   "execution_count": null,
   "id": "dd327a35-88e3-42fb-95f9-7453dad743cb",
   "metadata": {},
   "outputs": [],
   "source": [
    "import pynq\n",
    "import time\n",
    "from PIL import Image\n",
    "import numpy as np"
   ]
  },
  {
   "cell_type": "code",
   "execution_count": null,
   "id": "c9aac576-4fd9-4792-ad28-c1cd91dbfcc5",
   "metadata": {},
   "outputs": [],
   "source": [
    "img = \"/nethome/rsenthilkumar9/final_project/lena_gray.bmp\"\n",
    "img_arr = np.array(img)"
   ]
  },
  {
   "cell_type": "code",
   "execution_count": null,
   "id": "441f72ab-21e5-40cd-b5e4-2f30c4074116",
   "metadata": {},
   "outputs": [],
   "source": [
    "bitstream = \"/nethome/rsenthilkumar9final_project/guasFilter.bit\"\n",
    "overlay = pynq.Overlay(bitstream)"
   ]
  },
  {
   "cell_type": "code",
   "execution_count": null,
   "id": "ab68852c-58dd-4ad3-a475-612a0b2d7fd5",
   "metadata": {},
   "outputs": [],
   "source": [
    "dut = overlay.guasFilter_0"
   ]
  },
  {
   "cell_type": "code",
   "execution_count": null,
   "id": "ba53e7c5-d779-4f3d-91d0-a039009b3e8f",
   "metadata": {},
   "outputs": [],
   "source": [
    "dut?"
   ]
  },
  {
   "cell_type": "code",
   "execution_count": null,
   "id": "d60746e0-4dda-43b5-9855-75ac2389cd2d",
   "metadata": {},
   "outputs": [],
   "source": [
    "input = pynq.allocate((512, 512), dtype=\"uint8\")\n",
    "\n",
    "input[:] = img_arr\n",
    "\n",
    "input.sync_to_device()"
   ]
  },
  {
   "cell_type": "code",
   "execution_count": null,
   "id": "f5e93d45-4d4d-4e6c-933b-5016ebc4b33b",
   "metadata": {},
   "outputs": [],
   "source": [
    "dut.register_map\n",
    "\n",
    "dut.register_map.INPUT_DRAM_1 = input.device_address & 0xFFFFFFFF\n",
    "dut.register_map.INPUT_DRAM_2 = input.device_address >> 32"
   ]
  },
  {
   "cell_type": "code",
   "execution_count": null,
   "id": "8bcbd38c-7c06-470e-ba72-6c8a502c49d5",
   "metadata": {},
   "outputs": [],
   "source": [
    "start_time = time.time()"
   ]
  },
  {
   "cell_type": "code",
   "execution_count": null,
   "id": "1ce43526-5c6a-490f-9188-e7ab8dcd69a1",
   "metadata": {},
   "outputs": [],
   "source": [
    "dut.register_map.CTRL.AP_START = 1\n",
    "dut.register_map.CTRL[4] = 1\n",
    "while not dut.register_map.CTRL.AP_DONE:\n",
    "    pass"
   ]
  },
  {
   "cell_type": "code",
   "execution_count": null,
   "id": "a610158c-82cb-4b86-bbd5-aac4c7d88c26",
   "metadata": {},
   "outputs": [],
   "source": [
    "end_time = time.time()\n",
    "duration = end_time - start_time\n",
    "print(f\"Kernel completed in {duration * 1000:.2f}ms\")"
   ]
  },
  {
   "cell_type": "code",
   "execution_count": null,
   "id": "687176ab-37af-458f-931b-8703efd7655c",
   "metadata": {},
   "outputs": [],
   "source": [
    "input.sync_from_device()\n",
    "img_out = input[:]"
   ]
  },
  {
   "cell_type": "code",
   "execution_count": null,
   "id": "0c7b30a3-2771-427f-a19c-0ed1896d102e",
   "metadata": {},
   "outputs": [],
   "source": [
    "overlay.free()"
   ]
  }
 ],
 "metadata": {
  "kernelspec": {
   "display_name": "Python 3",
   "language": "python",
   "name": "python3"
  },
  "language_info": {
   "codemirror_mode": {
    "name": "ipython",
    "version": 3
   },
   "file_extension": ".py",
   "mimetype": "text/x-python",
   "name": "python",
   "nbconvert_exporter": "python",
   "pygments_lexer": "ipython3",
   "version": "3.8.2"
  }
 },
 "nbformat": 4,
 "nbformat_minor": 5
}
