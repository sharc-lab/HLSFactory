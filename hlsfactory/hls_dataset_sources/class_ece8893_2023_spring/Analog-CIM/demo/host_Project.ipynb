{
 "cells": [
  {
   "cell_type": "code",
   "execution_count": 1,
   "id": "d7850395-01dc-45d3-a4f6-5a0f438acae3",
   "metadata": {},
   "outputs": [
    {
     "data": {
      "application/javascript": [
       "\n",
       "try {\n",
       "require(['notebook/js/codecell'], function(codecell) {\n",
       "  codecell.CodeCell.options_default.highlight_modes[\n",
       "      'magic_text/x-csrc'] = {'reg':[/^%%microblaze/]};\n",
       "  Jupyter.notebook.events.one('kernel_ready.Kernel', function(){\n",
       "      Jupyter.notebook.get_cells().map(function(cell){\n",
       "          if (cell.cell_type == 'code'){ cell.auto_highlight(); } }) ;\n",
       "  });\n",
       "});\n",
       "} catch (e) {};\n"
      ]
     },
     "metadata": {},
     "output_type": "display_data"
    },
    {
     "data": {
      "application/javascript": [
       "\n",
       "try {\n",
       "require(['notebook/js/codecell'], function(codecell) {\n",
       "  codecell.CodeCell.options_default.highlight_modes[\n",
       "      'magic_text/x-csrc'] = {'reg':[/^%%pybind11/]};\n",
       "  Jupyter.notebook.events.one('kernel_ready.Kernel', function(){\n",
       "      Jupyter.notebook.get_cells().map(function(cell){\n",
       "          if (cell.cell_type == 'code'){ cell.auto_highlight(); } }) ;\n",
       "  });\n",
       "});\n",
       "} catch (e) {};\n"
      ]
     },
     "metadata": {},
     "output_type": "display_data"
    }
   ],
   "source": [
    "import pynq\n",
    "import time\n",
    "import numpy as np"
   ]
  },
  {
   "cell_type": "code",
   "execution_count": 2,
   "id": "96952901-4de2-454b-b501-9960f01733d8",
   "metadata": {},
   "outputs": [],
   "source": [
    "overlay = pynq.Overlay(\"tiled_cim_conv_64_11.bit\")"
   ]
  },
  {
   "cell_type": "code",
   "execution_count": 3,
   "id": "2d088c92-3a98-4ebc-81be-e712452fc0a9",
   "metadata": {},
   "outputs": [
    {
     "data": {
      "text/plain": [
       "\u001b[0;31mType:\u001b[0m            Overlay\n",
       "\u001b[0;31mString form:\u001b[0m     <pynq.overlay.Overlay object at 0xb3dc4100>\n",
       "\u001b[0;31mFile:\u001b[0m            /usr/local/share/pynq-venv/lib/python3.8/site-packages/pynq/overlay.py\n",
       "\u001b[0;31mDocstring:\u001b[0m      \n",
       "Default documentation for overlay tiled_cim_conv_64_11.bit. The following\n",
       "attributes are available on this overlay:\n",
       "\n",
       "IP Blocks\n",
       "----------\n",
       "tiled_cim_conv_0     : pynq.overlay.DefaultIP\n",
       "processing_system7_0 : pynq.overlay.DefaultIP\n",
       "\n",
       "Hierarchies\n",
       "-----------\n",
       "None\n",
       "\n",
       "Interrupts\n",
       "----------\n",
       "None\n",
       "\n",
       "GPIO Outputs\n",
       "------------\n",
       "None\n",
       "\n",
       "Memories\n",
       "------------\n",
       "PSDDR                : Memory\n",
       "\u001b[0;31mClass docstring:\u001b[0m\n",
       "This class keeps track of a single bitstream's state and contents.\n",
       "\n",
       "The overlay class holds the state of the bitstream and enables run-time\n",
       "protection of bindings.\n",
       "\n",
       "Our definition of overlay is: \"post-bitstream configurable design\".\n",
       "Hence, this class must expose configurability through content discovery\n",
       "and runtime protection.\n",
       "\n",
       "The overlay class exposes the IP and hierarchies as attributes in the\n",
       "overlay. If no other drivers are available the `DefaultIP` is constructed\n",
       "for IP cores at top level and `DefaultHierarchy` for any hierarchies that\n",
       "contain addressable IP. Custom drivers can be bound to IP and hierarchies\n",
       "by subclassing `DefaultIP` and `DefaultHierarchy`. See the help entries\n",
       "for those class for more details.\n",
       "\n",
       "This class stores four dictionaries: IP, GPIO, interrupt controller\n",
       "and interrupt pin dictionaries.\n",
       "\n",
       "Each entry of the IP dictionary is a mapping:\n",
       "'name' -> {phys_addr, addr_range, type, config, state}, where\n",
       "name (str) is the key of the entry.\n",
       "phys_addr (int) is the physical address of the IP.\n",
       "addr_range (int) is the address range of the IP.\n",
       "type (str) is the type of the IP.\n",
       "config (dict) is a dictionary of the configuration parameters.\n",
       "state (str) is the state information about the IP.\n",
       "\n",
       "Each entry of the GPIO dictionary is a mapping:\n",
       "'name' -> {pin, state}, where\n",
       "name (str) is the key of the entry.\n",
       "pin (int) is the user index of the GPIO, starting from 0.\n",
       "state (str) is the state information about the GPIO.\n",
       "\n",
       "Each entry in the interrupt controller dictionary is a mapping:\n",
       "'name' -> {parent, index}, where\n",
       "name (str) is the name of the interrupt controller.\n",
       "parent (str) is the name of the parent controller or '' if attached\n",
       "directly to the PS.\n",
       "index (int) is the index of the interrupt attached to.\n",
       "\n",
       "Each entry in the interrupt pin dictionary is a mapping:\n",
       "'name' -> {controller, index}, where\n",
       "name (str) is the name of the pin.\n",
       "controller (str) is the name of the interrupt controller.\n",
       "index (int) is the line index.\n",
       "\n",
       "Attributes\n",
       "----------\n",
       "bitfile_name : str\n",
       "    The absolute path of the bitstream.\n",
       "dtbo : str\n",
       "    The absolute path of the dtbo file for the full bitstream.\n",
       "ip_dict : dict\n",
       "    All the addressable IPs from PS. Key is the name of the IP; value is\n",
       "    a dictionary mapping the physical address, address range, IP type,\n",
       "    parameters, registers, and the state associated with that IP:\n",
       "    {str: {'phys_addr' : int, 'addr_range' : int,                'type' : str, 'parameters' : dict, 'registers': dict,                'state' : str}}.\n",
       "gpio_dict : dict\n",
       "    All the GPIO pins controlled by PS. Key is the name of the GPIO pin;\n",
       "    value is a dictionary mapping user index (starting from 0),\n",
       "    and the state associated with that GPIO pin:\n",
       "    {str: {'index' : int, 'state' : str}}.\n",
       "interrupt_controllers : dict\n",
       "    All AXI interrupt controllers in the system attached to\n",
       "    a PS interrupt line. Key is the name of the controller;\n",
       "    value is a dictionary mapping parent interrupt controller and the\n",
       "    line index of this interrupt:\n",
       "    {str: {'parent': str, 'index' : int}}.\n",
       "    The PS is the root of the hierarchy and is unnamed.\n",
       "interrupt_pins : dict\n",
       "    All pins in the design attached to an interrupt controller.\n",
       "    Key is the name of the pin; value is a dictionary\n",
       "    mapping the interrupt controller and the line index used:\n",
       "    {str: {'controller' : str, 'index' : int}}.\n",
       "pr_dict : dict\n",
       "    Dictionary mapping from the name of the partial-reconfigurable\n",
       "    hierarchical blocks to the loaded partial bitstreams:\n",
       "    {str: {'loaded': str, 'dtbo': str}}.\n",
       "device : pynq.Device\n",
       "    The device that the overlay is loaded on\n",
       "\u001b[0;31mInit docstring:\u001b[0m \n",
       "Return a new Overlay object.\n",
       "\n",
       "An overlay instantiates a bitstream object as a member initially.\n",
       "\n",
       "Parameters\n",
       "----------\n",
       "bitfile_name : str\n",
       "    The bitstream name or absolute path as a string.\n",
       "dtbo : str\n",
       "    The dtbo file name or absolute path as a string.\n",
       "download : bool\n",
       "    Whether the overlay should be downloaded.\n",
       "ignore_version : bool\n",
       "    Indicate whether or not to ignore the driver versions.\n",
       "device : pynq.Device\n",
       "    Device on which to load the Overlay. Defaults to\n",
       "    pynq.Device.active_device\n",
       "\n",
       "Note\n",
       "----\n",
       "This class requires a HWH file to be next to bitstream file\n",
       "with same name (e.g. `base.bit` and `base.hwh`).\n"
      ]
     },
     "metadata": {},
     "output_type": "display_data"
    }
   ],
   "source": [
    "overlay?"
   ]
  },
  {
   "cell_type": "code",
   "execution_count": 4,
   "id": "aed760b0-1c1e-425a-8f41-bce54cc8ddb1",
   "metadata": {},
   "outputs": [],
   "source": [
    "dut = overlay.tiled_cim_conv_0"
   ]
  },
  {
   "cell_type": "code",
   "execution_count": 5,
   "id": "8dd489c5-3f34-422e-a56c-f96f441cf297",
   "metadata": {},
   "outputs": [],
   "source": [
    "def to_fixed_point(dst, src, *, width=None, iwidth, signed=True):\n",
    "    if width is None:\n",
    "        width = dst.dtype.itemsize * 8\n",
    "\n",
    "    fwidth = width - iwidth\n",
    "    epsilon = 1.0 / (2.0**fwidth)\n",
    "    min_ = -1.0 * (2.0 ** (iwidth - 1)) if signed else 0.0\n",
    "    max_ = (2.0 ** (iwidth - (1 if signed else 0))) - epsilon\n",
    "\n",
    "    src = np.copy(src)\n",
    "    src = src.reshape(dst.shape)\n",
    "    src[src < min_] = min_\n",
    "    src[src > max_] = max_\n",
    "    if signed:\n",
    "        src[src < 0] += 2**iwidth\n",
    "    dst[:] = np.around(src * (2.0**fwidth)).astype(dst.dtype)\n",
    "\n",
    "\n",
    "def from_fixed_point(src, *, width=None, iwidth, signed=True):\n",
    "    if width is None:\n",
    "        width = src.dtype.itemsize * 8\n",
    "\n",
    "    fwidth = width - iwidth\n",
    "    src = np.array(src, dtype=np.int64)\n",
    "    if signed:\n",
    "        src[src >= (2 ** (width - 1))] -= 2**width\n",
    "    return src / (2.0**fwidth)"
   ]
  },
  {
   "cell_type": "code",
   "execution_count": 6,
   "id": "8a925d8a-e8f3-4508-b312-046b9032168a",
   "metadata": {},
   "outputs": [],
   "source": [
    "IN_ROWS = 12545\n",
    "IN_COLS = 147\n",
    "WT_ROWS = 147\n",
    "WT_COLS = 65\n",
    "WT_BIN_COLS = WT_COLS * 8\n",
    "ADC_LEVELS = 32\n",
    "NUM_ARGS = 2\n",
    "VDD = 1\n",
    "RES_DIVIDER = 1352"
   ]
  },
  {
   "cell_type": "code",
   "execution_count": 7,
   "id": "0630dcd1-afe8-4459-bd93-c6667a451ae1",
   "metadata": {},
   "outputs": [],
   "source": [
    "inputs = np.loadtxt(open(\"input2d.csv\"), delimiter=\",\", dtype=\"int32\")\n",
    "weights = np.loadtxt(open(\"weight2d_cond.csv\"), delimiter=\",\", dtype=\"float64\")\n",
    "v_ref = np.loadtxt(open(\"v_ref.csv\"), delimiter=\",\", dtype=\"float64\")\n",
    "correct_output = np.loadtxt(open(\"correct_output.csv\"), delimiter=\",\", dtype=\"int32\")"
   ]
  },
  {
   "cell_type": "code",
   "execution_count": 8,
   "id": "897ab35c-e8e3-41ca-adbe-9bfadd368313",
   "metadata": {},
   "outputs": [],
   "source": [
    "cim_args = np.array([VDD, RES_DIVIDER], dtype=\"u4\");"
   ]
  },
  {
   "cell_type": "code",
   "execution_count": 9,
   "id": "681fbfcb-9507-44af-9ca5-5f43198a78de",
   "metadata": {},
   "outputs": [],
   "source": [
    "input_buf = pynq.allocate((IN_ROWS, IN_COLS), dtype=\"u4\")\n",
    "input_buf[:] = inputs\n",
    "input_buf.sync_to_device()"
   ]
  },
  {
   "cell_type": "code",
   "execution_count": 10,
   "id": "c1f2fdaf-1e07-4129-bf1a-f67b3ad28dfe",
   "metadata": {},
   "outputs": [],
   "source": [
    "weight_buf = pynq.allocate((WT_ROWS, WT_BIN_COLS), dtype=\"u8\")\n",
    "to_fixed_point(weight_buf, weights, iwidth=11, signed=True)\n",
    "weight_buf.sync_to_device()"
   ]
  },
  {
   "cell_type": "code",
   "execution_count": 11,
   "id": "6e76c47b-fa78-469b-9fc0-8c195192633c",
   "metadata": {},
   "outputs": [],
   "source": [
    "v_ref_buf = pynq.allocate(ADC_LEVELS, dtype=\"u8\")\n",
    "to_fixed_point(v_ref_buf, v_ref, iwidth=11, signed=True)\n",
    "v_ref_buf.sync_to_device()"
   ]
  },
  {
   "cell_type": "code",
   "execution_count": 12,
   "id": "bfaa5b46-e373-4631-87f2-ac1c2f764724",
   "metadata": {},
   "outputs": [],
   "source": [
    "cim_args_buf = pynq.allocate(NUM_ARGS, dtype=\"u4\")\n",
    "cim_args_buf[:] = cim_args\n",
    "cim_args_buf.sync_to_device()"
   ]
  },
  {
   "cell_type": "code",
   "execution_count": 13,
   "id": "f9f147e8-74b3-4159-bb8d-9375c0ff2784",
   "metadata": {},
   "outputs": [],
   "source": [
    "output_buf = pynq.allocate((IN_ROWS, WT_COLS), dtype=\"u4\")"
   ]
  },
  {
   "cell_type": "code",
   "execution_count": 14,
   "id": "4add2786-0d0f-46ed-b883-3e7bf36f29ca",
   "metadata": {},
   "outputs": [
    {
     "data": {
      "text/plain": [
       "RegisterMap {\n",
       "  CTRL = Register(AP_START=0, AP_DONE=0, AP_IDLE=1, AP_READY=0, RESERVED_1=0, AUTO_RESTART=0, RESERVED_2=0, INTERRUPT=0, RESERVED_3=0),\n",
       "  GIER = Register(Enable=0, RESERVED=0),\n",
       "  IP_IER = Register(CHAN0_INT_EN=0, CHAN1_INT_EN=0, RESERVED_0=0),\n",
       "  IP_ISR = Register(CHAN0_INT_ST=0, CHAN1_INT_ST=0, RESERVED_0=0),\n",
       "  input2d_1 = Register(input2d=write-only),\n",
       "  input2d_2 = Register(input2d=write-only),\n",
       "  weight2d_cond_1 = Register(weight2d_cond=write-only),\n",
       "  weight2d_cond_2 = Register(weight2d_cond=write-only),\n",
       "  v_ref_1 = Register(v_ref=write-only),\n",
       "  v_ref_2 = Register(v_ref=write-only),\n",
       "  output_r_1 = Register(output_r=write-only),\n",
       "  output_r_2 = Register(output_r=write-only),\n",
       "  cim_args_1 = Register(cim_args=write-only),\n",
       "  cim_args_2 = Register(cim_args=write-only)\n",
       "}"
      ]
     },
     "execution_count": 14,
     "metadata": {},
     "output_type": "execute_result"
    }
   ],
   "source": [
    "dut.register_map"
   ]
  },
  {
   "cell_type": "code",
   "execution_count": 15,
   "id": "3b7cb800-92f9-4d71-89ef-06d132497a81",
   "metadata": {},
   "outputs": [],
   "source": [
    "dut.register_map.input2d_1 = input_buf.device_address & 0xFFFFFFFF\n",
    "dut.register_map.input2d_2 = input_buf.device_address >> 32\n",
    "\n",
    "dut.register_map.weight2d_cond_1 = weight_buf.device_address & 0xFFFFFFFF\n",
    "dut.register_map.weight2d_cond_2 = weight_buf.device_address >> 32\n",
    "\n",
    "dut.register_map.v_ref_1 = v_ref_buf.device_address & 0xFFFFFFFF\n",
    "dut.register_map.v_ref_2 = v_ref_buf.device_address >> 32\n",
    "\n",
    "dut.register_map.cim_args_1 = cim_args_buf.device_address & 0xFFFFFFFF\n",
    "dut.register_map.cim_args_2 = cim_args_buf.device_address >> 32\n",
    "\n",
    "dut.register_map.output_r_1 = output_buf.device_address & 0xFFFFFFFF\n",
    "dut.register_map.output_r_2 = output_buf.device_address >> 32"
   ]
  },
  {
   "cell_type": "code",
   "execution_count": 16,
   "id": "fccd084a-2182-4918-81ae-41b9e69ab6e2",
   "metadata": {},
   "outputs": [
    {
     "name": "stdout",
     "output_type": "stream",
     "text": [
      "Kernel completed in 31439.17ms\n"
     ]
    }
   ],
   "source": [
    "start_time = time.time()\n",
    "\n",
    "dut.register_map.CTRL.AP_START = 1\n",
    "dut.register_map.CTRL[4] = 1\n",
    "while not dut.register_map.CTRL.AP_DONE:\n",
    "    pass\n",
    "\n",
    "end_time = time.time()\n",
    "duration = end_time - start_time\n",
    "print(f\"Kernel completed in {duration * 1000:.2f}ms\")"
   ]
  },
  {
   "cell_type": "code",
   "execution_count": 17,
   "id": "d487f856-cd5d-4893-93ee-ee33aaeda61a",
   "metadata": {},
   "outputs": [],
   "source": [
    "output_buf.sync_from_device()"
   ]
  },
  {
   "cell_type": "code",
   "execution_count": 18,
   "id": "49867f39-bd87-477d-86a5-2a0dcf51c2cc",
   "metadata": {},
   "outputs": [
    {
     "name": "stdout",
     "output_type": "stream",
     "text": [
      "[[1520565 1506235 1528064 ... 1520977 1522650 1523492]\n",
      " [1566390 1518860 1567446 ... 1566757 1564184 1560957]\n",
      " [1601721 1520574 1605774 ... 1597674 1602548 1598295]\n",
      " ...\n",
      " [1695595 1687566 1695153 ... 1692669 1701364 1696847]\n",
      " [1620349 1619268 1623021 ... 1625326 1608517 1624711]\n",
      " [1512432 1509840 1510002 ... 1512270 1511217 1512189]]\n",
      "3512491 302385\n"
     ]
    }
   ],
   "source": [
    "print(output_buf)\n",
    "print(np.amax(output_buf), np.amin(output_buf))"
   ]
  },
  {
   "cell_type": "code",
   "execution_count": 19,
   "id": "6b72fb2e-7382-4461-b3f2-ec0c2a9cd525",
   "metadata": {},
   "outputs": [],
   "source": [
    "on_board_mse = np.square(np.subtract(correct_output, output_buf)).mean()"
   ]
  },
  {
   "cell_type": "code",
   "execution_count": 20,
   "id": "c9c8f9bc-a197-4ca7-bae8-27c9357c9089",
   "metadata": {},
   "outputs": [
    {
     "data": {
      "text/plain": [
       "PynqBuffer(0.)"
      ]
     },
     "execution_count": 20,
     "metadata": {},
     "output_type": "execute_result"
    }
   ],
   "source": [
    "on_board_mse"
   ]
  }
 ],
 "metadata": {
  "kernelspec": {
   "display_name": "Python 3",
   "language": "python",
   "name": "python3"
  },
  "language_info": {
   "codemirror_mode": {
    "name": "ipython",
    "version": 3
   },
   "file_extension": ".py",
   "mimetype": "text/x-python",
   "name": "python",
   "nbconvert_exporter": "python",
   "pygments_lexer": "ipython3",
   "version": "3.8.2"
  }
 },
 "nbformat": 4,
 "nbformat_minor": 5
}
